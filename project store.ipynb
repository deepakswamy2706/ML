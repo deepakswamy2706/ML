{
 "cells": [
  {
   "cell_type": "code",
   "execution_count": 1,
   "id": "e60ecff3",
   "metadata": {},
   "outputs": [],
   "source": [
    "import numpy as np \n",
    "import pandas as pd\n",
    "import seaborn as sns\n",
    "import matplotlib.pyplot as plt"
   ]
  },
  {
   "cell_type": "code",
   "execution_count": 2,
   "id": "e67db190",
   "metadata": {},
   "outputs": [],
   "source": [
    "df=pd.read_excel('C:\\\\Users\\\\user\\\\saurabh sir pandas\\\\ML\\\\store.xlsx')"
   ]
  },
  {
   "cell_type": "code",
   "execution_count": 3,
   "id": "ca4333db",
   "metadata": {},
   "outputs": [
    {
     "data": {
      "text/html": [
       "<div>\n",
       "<style scoped>\n",
       "    .dataframe tbody tr th:only-of-type {\n",
       "        vertical-align: middle;\n",
       "    }\n",
       "\n",
       "    .dataframe tbody tr th {\n",
       "        vertical-align: top;\n",
       "    }\n",
       "\n",
       "    .dataframe thead th {\n",
       "        text-align: right;\n",
       "    }\n",
       "</style>\n",
       "<table border=\"1\" class=\"dataframe\">\n",
       "  <thead>\n",
       "    <tr style=\"text-align: right;\">\n",
       "      <th></th>\n",
       "      <th>Row ID</th>\n",
       "      <th>Order ID</th>\n",
       "      <th>Order Date</th>\n",
       "      <th>Ship Date</th>\n",
       "      <th>Ship Mode</th>\n",
       "      <th>Customer ID</th>\n",
       "      <th>Customer Name</th>\n",
       "      <th>Segment</th>\n",
       "      <th>Postal Code</th>\n",
       "      <th>City</th>\n",
       "      <th>...</th>\n",
       "      <th>Product ID</th>\n",
       "      <th>Category</th>\n",
       "      <th>Sub-Category</th>\n",
       "      <th>Product Name</th>\n",
       "      <th>Sales</th>\n",
       "      <th>Quantity</th>\n",
       "      <th>Discount</th>\n",
       "      <th>Profit</th>\n",
       "      <th>Shipping Cost</th>\n",
       "      <th>Order Priority</th>\n",
       "    </tr>\n",
       "  </thead>\n",
       "  <tbody>\n",
       "    <tr>\n",
       "      <th>0</th>\n",
       "      <td>40098</td>\n",
       "      <td>CA-2014-AB10015140-41954</td>\n",
       "      <td>2014-11-11</td>\n",
       "      <td>2014-11-13</td>\n",
       "      <td>First Class</td>\n",
       "      <td>AB-100151402</td>\n",
       "      <td>Aaron Bergman</td>\n",
       "      <td>Consumer</td>\n",
       "      <td>73120.0</td>\n",
       "      <td>Oklahoma City</td>\n",
       "      <td>...</td>\n",
       "      <td>TEC-PH-5816</td>\n",
       "      <td>Technology</td>\n",
       "      <td>Phones</td>\n",
       "      <td>Samsung Convoy 3</td>\n",
       "      <td>221.980</td>\n",
       "      <td>2</td>\n",
       "      <td>0.0</td>\n",
       "      <td>62.1544</td>\n",
       "      <td>40.770</td>\n",
       "      <td>High</td>\n",
       "    </tr>\n",
       "    <tr>\n",
       "      <th>1</th>\n",
       "      <td>26341</td>\n",
       "      <td>IN-2014-JR162107-41675</td>\n",
       "      <td>2014-02-05</td>\n",
       "      <td>2014-02-07</td>\n",
       "      <td>Second Class</td>\n",
       "      <td>JR-162107</td>\n",
       "      <td>Justin Ritter</td>\n",
       "      <td>Corporate</td>\n",
       "      <td>NaN</td>\n",
       "      <td>Wollongong</td>\n",
       "      <td>...</td>\n",
       "      <td>FUR-CH-5379</td>\n",
       "      <td>Furniture</td>\n",
       "      <td>Chairs</td>\n",
       "      <td>Novimex Executive Leather Armchair, Black</td>\n",
       "      <td>3709.395</td>\n",
       "      <td>9</td>\n",
       "      <td>0.1</td>\n",
       "      <td>-288.7650</td>\n",
       "      <td>923.630</td>\n",
       "      <td>Critical</td>\n",
       "    </tr>\n",
       "    <tr>\n",
       "      <th>2</th>\n",
       "      <td>25330</td>\n",
       "      <td>IN-2014-CR127307-41929</td>\n",
       "      <td>2014-10-17</td>\n",
       "      <td>2014-10-18</td>\n",
       "      <td>First Class</td>\n",
       "      <td>CR-127307</td>\n",
       "      <td>Craig Reiter</td>\n",
       "      <td>Consumer</td>\n",
       "      <td>NaN</td>\n",
       "      <td>Brisbane</td>\n",
       "      <td>...</td>\n",
       "      <td>TEC-PH-5356</td>\n",
       "      <td>Technology</td>\n",
       "      <td>Phones</td>\n",
       "      <td>Nokia Smart Phone, with Caller ID</td>\n",
       "      <td>5175.171</td>\n",
       "      <td>9</td>\n",
       "      <td>0.1</td>\n",
       "      <td>919.9710</td>\n",
       "      <td>915.490</td>\n",
       "      <td>Medium</td>\n",
       "    </tr>\n",
       "    <tr>\n",
       "      <th>3</th>\n",
       "      <td>13524</td>\n",
       "      <td>ES-2014-KM1637548-41667</td>\n",
       "      <td>2014-01-28</td>\n",
       "      <td>2014-01-30</td>\n",
       "      <td>First Class</td>\n",
       "      <td>KM-1637548</td>\n",
       "      <td>Katherine Murray</td>\n",
       "      <td>Home Office</td>\n",
       "      <td>NaN</td>\n",
       "      <td>Berlin</td>\n",
       "      <td>...</td>\n",
       "      <td>TEC-PH-5267</td>\n",
       "      <td>Technology</td>\n",
       "      <td>Phones</td>\n",
       "      <td>Motorola Smart Phone, Cordless</td>\n",
       "      <td>2892.510</td>\n",
       "      <td>5</td>\n",
       "      <td>0.1</td>\n",
       "      <td>-96.5400</td>\n",
       "      <td>910.160</td>\n",
       "      <td>Medium</td>\n",
       "    </tr>\n",
       "    <tr>\n",
       "      <th>4</th>\n",
       "      <td>47221</td>\n",
       "      <td>SG-2014-RH9495111-41948</td>\n",
       "      <td>2014-11-05</td>\n",
       "      <td>2014-11-06</td>\n",
       "      <td>Same Day</td>\n",
       "      <td>RH-9495111</td>\n",
       "      <td>Rick Hansen</td>\n",
       "      <td>Consumer</td>\n",
       "      <td>NaN</td>\n",
       "      <td>Dakar</td>\n",
       "      <td>...</td>\n",
       "      <td>TEC-CO-6011</td>\n",
       "      <td>Technology</td>\n",
       "      <td>Copiers</td>\n",
       "      <td>Sharp Wireless Fax, High-Speed</td>\n",
       "      <td>2832.960</td>\n",
       "      <td>8</td>\n",
       "      <td>0.0</td>\n",
       "      <td>311.5200</td>\n",
       "      <td>903.040</td>\n",
       "      <td>Critical</td>\n",
       "    </tr>\n",
       "    <tr>\n",
       "      <th>...</th>\n",
       "      <td>...</td>\n",
       "      <td>...</td>\n",
       "      <td>...</td>\n",
       "      <td>...</td>\n",
       "      <td>...</td>\n",
       "      <td>...</td>\n",
       "      <td>...</td>\n",
       "      <td>...</td>\n",
       "      <td>...</td>\n",
       "      <td>...</td>\n",
       "      <td>...</td>\n",
       "      <td>...</td>\n",
       "      <td>...</td>\n",
       "      <td>...</td>\n",
       "      <td>...</td>\n",
       "      <td>...</td>\n",
       "      <td>...</td>\n",
       "      <td>...</td>\n",
       "      <td>...</td>\n",
       "      <td>...</td>\n",
       "      <td>...</td>\n",
       "    </tr>\n",
       "    <tr>\n",
       "      <th>51285</th>\n",
       "      <td>29002</td>\n",
       "      <td>IN-2015-KE1642066-42174</td>\n",
       "      <td>2015-06-19</td>\n",
       "      <td>2015-06-19</td>\n",
       "      <td>Same Day</td>\n",
       "      <td>KE-1642066</td>\n",
       "      <td>Katrina Edelman</td>\n",
       "      <td>Corporate</td>\n",
       "      <td>NaN</td>\n",
       "      <td>Kure</td>\n",
       "      <td>...</td>\n",
       "      <td>OFF-FA-3072</td>\n",
       "      <td>Office Supplies</td>\n",
       "      <td>Fasteners</td>\n",
       "      <td>Advantus Thumb Tacks, 12 Pack</td>\n",
       "      <td>65.100</td>\n",
       "      <td>5</td>\n",
       "      <td>0.0</td>\n",
       "      <td>4.5000</td>\n",
       "      <td>1.010</td>\n",
       "      <td>Medium</td>\n",
       "    </tr>\n",
       "    <tr>\n",
       "      <th>51286</th>\n",
       "      <td>34337</td>\n",
       "      <td>US-2014-ZD21925140-41765</td>\n",
       "      <td>2014-05-06</td>\n",
       "      <td>2014-05-10</td>\n",
       "      <td>Standard Class</td>\n",
       "      <td>ZD-219251408</td>\n",
       "      <td>Zuschuss Donatelli</td>\n",
       "      <td>Consumer</td>\n",
       "      <td>37421.0</td>\n",
       "      <td>Chattanooga</td>\n",
       "      <td>...</td>\n",
       "      <td>FUR-FU-4070</td>\n",
       "      <td>Furniture</td>\n",
       "      <td>Furnishings</td>\n",
       "      <td>Eldon Image Series Desk Accessories, Burgundy</td>\n",
       "      <td>16.720</td>\n",
       "      <td>5</td>\n",
       "      <td>0.2</td>\n",
       "      <td>3.3440</td>\n",
       "      <td>1.930</td>\n",
       "      <td>High</td>\n",
       "    </tr>\n",
       "    <tr>\n",
       "      <th>51287</th>\n",
       "      <td>31315</td>\n",
       "      <td>CA-2012-ZD21925140-41147</td>\n",
       "      <td>2012-08-26</td>\n",
       "      <td>2012-08-31</td>\n",
       "      <td>Second Class</td>\n",
       "      <td>ZD-219251404</td>\n",
       "      <td>Zuschuss Donatelli</td>\n",
       "      <td>Consumer</td>\n",
       "      <td>94109.0</td>\n",
       "      <td>San Francisco</td>\n",
       "      <td>...</td>\n",
       "      <td>OFF-AR-5321</td>\n",
       "      <td>Office Supplies</td>\n",
       "      <td>Art</td>\n",
       "      <td>Newell 341</td>\n",
       "      <td>8.560</td>\n",
       "      <td>2</td>\n",
       "      <td>0.0</td>\n",
       "      <td>2.4824</td>\n",
       "      <td>1.580</td>\n",
       "      <td>High</td>\n",
       "    </tr>\n",
       "    <tr>\n",
       "      <th>51288</th>\n",
       "      <td>9596</td>\n",
       "      <td>MX-2013-RB1979518-41322</td>\n",
       "      <td>2013-02-17</td>\n",
       "      <td>2013-02-21</td>\n",
       "      <td>Standard Class</td>\n",
       "      <td>RB-1979518</td>\n",
       "      <td>Ross Baird</td>\n",
       "      <td>Home Office</td>\n",
       "      <td>NaN</td>\n",
       "      <td>Valinhos</td>\n",
       "      <td>...</td>\n",
       "      <td>OFF-BI-2919</td>\n",
       "      <td>Office Supplies</td>\n",
       "      <td>Binders</td>\n",
       "      <td>Acco Index Tab, Economy</td>\n",
       "      <td>13.440</td>\n",
       "      <td>2</td>\n",
       "      <td>0.0</td>\n",
       "      <td>2.4000</td>\n",
       "      <td>1.003</td>\n",
       "      <td>Medium</td>\n",
       "    </tr>\n",
       "    <tr>\n",
       "      <th>51289</th>\n",
       "      <td>6147</td>\n",
       "      <td>MX-2013-MC1810093-41416</td>\n",
       "      <td>2013-05-22</td>\n",
       "      <td>2013-05-26</td>\n",
       "      <td>Second Class</td>\n",
       "      <td>MC-1810093</td>\n",
       "      <td>Mick Crebagga</td>\n",
       "      <td>Consumer</td>\n",
       "      <td>NaN</td>\n",
       "      <td>Tipitapa</td>\n",
       "      <td>...</td>\n",
       "      <td>OFF-PA-3990</td>\n",
       "      <td>Office Supplies</td>\n",
       "      <td>Paper</td>\n",
       "      <td>Eaton Computer Printout Paper, 8.5 x 11</td>\n",
       "      <td>61.380</td>\n",
       "      <td>3</td>\n",
       "      <td>0.0</td>\n",
       "      <td>1.8000</td>\n",
       "      <td>1.002</td>\n",
       "      <td>High</td>\n",
       "    </tr>\n",
       "  </tbody>\n",
       "</table>\n",
       "<p>51290 rows × 24 columns</p>\n",
       "</div>"
      ],
      "text/plain": [
       "       Row ID                  Order ID Order Date  Ship Date       Ship Mode  \\\n",
       "0       40098  CA-2014-AB10015140-41954 2014-11-11 2014-11-13     First Class   \n",
       "1       26341    IN-2014-JR162107-41675 2014-02-05 2014-02-07    Second Class   \n",
       "2       25330    IN-2014-CR127307-41929 2014-10-17 2014-10-18     First Class   \n",
       "3       13524   ES-2014-KM1637548-41667 2014-01-28 2014-01-30     First Class   \n",
       "4       47221   SG-2014-RH9495111-41948 2014-11-05 2014-11-06        Same Day   \n",
       "...       ...                       ...        ...        ...             ...   \n",
       "51285   29002   IN-2015-KE1642066-42174 2015-06-19 2015-06-19        Same Day   \n",
       "51286   34337  US-2014-ZD21925140-41765 2014-05-06 2014-05-10  Standard Class   \n",
       "51287   31315  CA-2012-ZD21925140-41147 2012-08-26 2012-08-31    Second Class   \n",
       "51288    9596   MX-2013-RB1979518-41322 2013-02-17 2013-02-21  Standard Class   \n",
       "51289    6147   MX-2013-MC1810093-41416 2013-05-22 2013-05-26    Second Class   \n",
       "\n",
       "        Customer ID       Customer Name      Segment  Postal Code  \\\n",
       "0      AB-100151402       Aaron Bergman     Consumer      73120.0   \n",
       "1         JR-162107       Justin Ritter    Corporate          NaN   \n",
       "2         CR-127307        Craig Reiter     Consumer          NaN   \n",
       "3        KM-1637548    Katherine Murray  Home Office          NaN   \n",
       "4        RH-9495111         Rick Hansen     Consumer          NaN   \n",
       "...             ...                 ...          ...          ...   \n",
       "51285    KE-1642066     Katrina Edelman    Corporate          NaN   \n",
       "51286  ZD-219251408  Zuschuss Donatelli     Consumer      37421.0   \n",
       "51287  ZD-219251404  Zuschuss Donatelli     Consumer      94109.0   \n",
       "51288    RB-1979518          Ross Baird  Home Office          NaN   \n",
       "51289    MC-1810093       Mick Crebagga     Consumer          NaN   \n",
       "\n",
       "                City  ...   Product ID         Category Sub-Category  \\\n",
       "0      Oklahoma City  ...  TEC-PH-5816       Technology       Phones   \n",
       "1         Wollongong  ...  FUR-CH-5379        Furniture       Chairs   \n",
       "2           Brisbane  ...  TEC-PH-5356       Technology       Phones   \n",
       "3             Berlin  ...  TEC-PH-5267       Technology       Phones   \n",
       "4              Dakar  ...  TEC-CO-6011       Technology      Copiers   \n",
       "...              ...  ...          ...              ...          ...   \n",
       "51285           Kure  ...  OFF-FA-3072  Office Supplies    Fasteners   \n",
       "51286    Chattanooga  ...  FUR-FU-4070        Furniture  Furnishings   \n",
       "51287  San Francisco  ...  OFF-AR-5321  Office Supplies          Art   \n",
       "51288       Valinhos  ...  OFF-BI-2919  Office Supplies      Binders   \n",
       "51289       Tipitapa  ...  OFF-PA-3990  Office Supplies        Paper   \n",
       "\n",
       "                                        Product Name     Sales Quantity  \\\n",
       "0                                   Samsung Convoy 3   221.980        2   \n",
       "1          Novimex Executive Leather Armchair, Black  3709.395        9   \n",
       "2                  Nokia Smart Phone, with Caller ID  5175.171        9   \n",
       "3                     Motorola Smart Phone, Cordless  2892.510        5   \n",
       "4                     Sharp Wireless Fax, High-Speed  2832.960        8   \n",
       "...                                              ...       ...      ...   \n",
       "51285                  Advantus Thumb Tacks, 12 Pack    65.100        5   \n",
       "51286  Eldon Image Series Desk Accessories, Burgundy    16.720        5   \n",
       "51287                                     Newell 341     8.560        2   \n",
       "51288                        Acco Index Tab, Economy    13.440        2   \n",
       "51289        Eaton Computer Printout Paper, 8.5 x 11    61.380        3   \n",
       "\n",
       "      Discount    Profit  Shipping Cost  Order Priority  \n",
       "0          0.0   62.1544         40.770            High  \n",
       "1          0.1 -288.7650        923.630        Critical  \n",
       "2          0.1  919.9710        915.490          Medium  \n",
       "3          0.1  -96.5400        910.160          Medium  \n",
       "4          0.0  311.5200        903.040        Critical  \n",
       "...        ...       ...            ...             ...  \n",
       "51285      0.0    4.5000          1.010          Medium  \n",
       "51286      0.2    3.3440          1.930            High  \n",
       "51287      0.0    2.4824          1.580            High  \n",
       "51288      0.0    2.4000          1.003          Medium  \n",
       "51289      0.0    1.8000          1.002            High  \n",
       "\n",
       "[51290 rows x 24 columns]"
      ]
     },
     "execution_count": 3,
     "metadata": {},
     "output_type": "execute_result"
    }
   ],
   "source": [
    "df"
   ]
  },
  {
   "cell_type": "code",
   "execution_count": 4,
   "id": "74435817",
   "metadata": {},
   "outputs": [],
   "source": [
    "df['new_column']=df['Category'].where(df['Category']=='Technology' , other = 0)"
   ]
  },
  {
   "cell_type": "code",
   "execution_count": 5,
   "id": "a4960c7f",
   "metadata": {},
   "outputs": [
    {
     "data": {
      "text/html": [
       "<div>\n",
       "<style scoped>\n",
       "    .dataframe tbody tr th:only-of-type {\n",
       "        vertical-align: middle;\n",
       "    }\n",
       "\n",
       "    .dataframe tbody tr th {\n",
       "        vertical-align: top;\n",
       "    }\n",
       "\n",
       "    .dataframe thead th {\n",
       "        text-align: right;\n",
       "    }\n",
       "</style>\n",
       "<table border=\"1\" class=\"dataframe\">\n",
       "  <thead>\n",
       "    <tr style=\"text-align: right;\">\n",
       "      <th></th>\n",
       "      <th>Row ID</th>\n",
       "      <th>Order ID</th>\n",
       "      <th>Order Date</th>\n",
       "      <th>Ship Date</th>\n",
       "      <th>Ship Mode</th>\n",
       "      <th>Customer ID</th>\n",
       "      <th>Customer Name</th>\n",
       "      <th>Segment</th>\n",
       "      <th>Postal Code</th>\n",
       "      <th>City</th>\n",
       "      <th>...</th>\n",
       "      <th>Category</th>\n",
       "      <th>Sub-Category</th>\n",
       "      <th>Product Name</th>\n",
       "      <th>Sales</th>\n",
       "      <th>Quantity</th>\n",
       "      <th>Discount</th>\n",
       "      <th>Profit</th>\n",
       "      <th>Shipping Cost</th>\n",
       "      <th>Order Priority</th>\n",
       "      <th>new_column</th>\n",
       "    </tr>\n",
       "  </thead>\n",
       "  <tbody>\n",
       "    <tr>\n",
       "      <th>0</th>\n",
       "      <td>40098</td>\n",
       "      <td>CA-2014-AB10015140-41954</td>\n",
       "      <td>2014-11-11</td>\n",
       "      <td>2014-11-13</td>\n",
       "      <td>First Class</td>\n",
       "      <td>AB-100151402</td>\n",
       "      <td>Aaron Bergman</td>\n",
       "      <td>Consumer</td>\n",
       "      <td>73120.0</td>\n",
       "      <td>Oklahoma City</td>\n",
       "      <td>...</td>\n",
       "      <td>Technology</td>\n",
       "      <td>Phones</td>\n",
       "      <td>Samsung Convoy 3</td>\n",
       "      <td>221.980</td>\n",
       "      <td>2</td>\n",
       "      <td>0.0</td>\n",
       "      <td>62.1544</td>\n",
       "      <td>40.770</td>\n",
       "      <td>High</td>\n",
       "      <td>Technology</td>\n",
       "    </tr>\n",
       "    <tr>\n",
       "      <th>1</th>\n",
       "      <td>26341</td>\n",
       "      <td>IN-2014-JR162107-41675</td>\n",
       "      <td>2014-02-05</td>\n",
       "      <td>2014-02-07</td>\n",
       "      <td>Second Class</td>\n",
       "      <td>JR-162107</td>\n",
       "      <td>Justin Ritter</td>\n",
       "      <td>Corporate</td>\n",
       "      <td>NaN</td>\n",
       "      <td>Wollongong</td>\n",
       "      <td>...</td>\n",
       "      <td>Furniture</td>\n",
       "      <td>Chairs</td>\n",
       "      <td>Novimex Executive Leather Armchair, Black</td>\n",
       "      <td>3709.395</td>\n",
       "      <td>9</td>\n",
       "      <td>0.1</td>\n",
       "      <td>-288.7650</td>\n",
       "      <td>923.630</td>\n",
       "      <td>Critical</td>\n",
       "      <td>0</td>\n",
       "    </tr>\n",
       "    <tr>\n",
       "      <th>2</th>\n",
       "      <td>25330</td>\n",
       "      <td>IN-2014-CR127307-41929</td>\n",
       "      <td>2014-10-17</td>\n",
       "      <td>2014-10-18</td>\n",
       "      <td>First Class</td>\n",
       "      <td>CR-127307</td>\n",
       "      <td>Craig Reiter</td>\n",
       "      <td>Consumer</td>\n",
       "      <td>NaN</td>\n",
       "      <td>Brisbane</td>\n",
       "      <td>...</td>\n",
       "      <td>Technology</td>\n",
       "      <td>Phones</td>\n",
       "      <td>Nokia Smart Phone, with Caller ID</td>\n",
       "      <td>5175.171</td>\n",
       "      <td>9</td>\n",
       "      <td>0.1</td>\n",
       "      <td>919.9710</td>\n",
       "      <td>915.490</td>\n",
       "      <td>Medium</td>\n",
       "      <td>Technology</td>\n",
       "    </tr>\n",
       "    <tr>\n",
       "      <th>3</th>\n",
       "      <td>13524</td>\n",
       "      <td>ES-2014-KM1637548-41667</td>\n",
       "      <td>2014-01-28</td>\n",
       "      <td>2014-01-30</td>\n",
       "      <td>First Class</td>\n",
       "      <td>KM-1637548</td>\n",
       "      <td>Katherine Murray</td>\n",
       "      <td>Home Office</td>\n",
       "      <td>NaN</td>\n",
       "      <td>Berlin</td>\n",
       "      <td>...</td>\n",
       "      <td>Technology</td>\n",
       "      <td>Phones</td>\n",
       "      <td>Motorola Smart Phone, Cordless</td>\n",
       "      <td>2892.510</td>\n",
       "      <td>5</td>\n",
       "      <td>0.1</td>\n",
       "      <td>-96.5400</td>\n",
       "      <td>910.160</td>\n",
       "      <td>Medium</td>\n",
       "      <td>Technology</td>\n",
       "    </tr>\n",
       "    <tr>\n",
       "      <th>4</th>\n",
       "      <td>47221</td>\n",
       "      <td>SG-2014-RH9495111-41948</td>\n",
       "      <td>2014-11-05</td>\n",
       "      <td>2014-11-06</td>\n",
       "      <td>Same Day</td>\n",
       "      <td>RH-9495111</td>\n",
       "      <td>Rick Hansen</td>\n",
       "      <td>Consumer</td>\n",
       "      <td>NaN</td>\n",
       "      <td>Dakar</td>\n",
       "      <td>...</td>\n",
       "      <td>Technology</td>\n",
       "      <td>Copiers</td>\n",
       "      <td>Sharp Wireless Fax, High-Speed</td>\n",
       "      <td>2832.960</td>\n",
       "      <td>8</td>\n",
       "      <td>0.0</td>\n",
       "      <td>311.5200</td>\n",
       "      <td>903.040</td>\n",
       "      <td>Critical</td>\n",
       "      <td>Technology</td>\n",
       "    </tr>\n",
       "    <tr>\n",
       "      <th>...</th>\n",
       "      <td>...</td>\n",
       "      <td>...</td>\n",
       "      <td>...</td>\n",
       "      <td>...</td>\n",
       "      <td>...</td>\n",
       "      <td>...</td>\n",
       "      <td>...</td>\n",
       "      <td>...</td>\n",
       "      <td>...</td>\n",
       "      <td>...</td>\n",
       "      <td>...</td>\n",
       "      <td>...</td>\n",
       "      <td>...</td>\n",
       "      <td>...</td>\n",
       "      <td>...</td>\n",
       "      <td>...</td>\n",
       "      <td>...</td>\n",
       "      <td>...</td>\n",
       "      <td>...</td>\n",
       "      <td>...</td>\n",
       "      <td>...</td>\n",
       "    </tr>\n",
       "    <tr>\n",
       "      <th>51285</th>\n",
       "      <td>29002</td>\n",
       "      <td>IN-2015-KE1642066-42174</td>\n",
       "      <td>2015-06-19</td>\n",
       "      <td>2015-06-19</td>\n",
       "      <td>Same Day</td>\n",
       "      <td>KE-1642066</td>\n",
       "      <td>Katrina Edelman</td>\n",
       "      <td>Corporate</td>\n",
       "      <td>NaN</td>\n",
       "      <td>Kure</td>\n",
       "      <td>...</td>\n",
       "      <td>Office Supplies</td>\n",
       "      <td>Fasteners</td>\n",
       "      <td>Advantus Thumb Tacks, 12 Pack</td>\n",
       "      <td>65.100</td>\n",
       "      <td>5</td>\n",
       "      <td>0.0</td>\n",
       "      <td>4.5000</td>\n",
       "      <td>1.010</td>\n",
       "      <td>Medium</td>\n",
       "      <td>0</td>\n",
       "    </tr>\n",
       "    <tr>\n",
       "      <th>51286</th>\n",
       "      <td>34337</td>\n",
       "      <td>US-2014-ZD21925140-41765</td>\n",
       "      <td>2014-05-06</td>\n",
       "      <td>2014-05-10</td>\n",
       "      <td>Standard Class</td>\n",
       "      <td>ZD-219251408</td>\n",
       "      <td>Zuschuss Donatelli</td>\n",
       "      <td>Consumer</td>\n",
       "      <td>37421.0</td>\n",
       "      <td>Chattanooga</td>\n",
       "      <td>...</td>\n",
       "      <td>Furniture</td>\n",
       "      <td>Furnishings</td>\n",
       "      <td>Eldon Image Series Desk Accessories, Burgundy</td>\n",
       "      <td>16.720</td>\n",
       "      <td>5</td>\n",
       "      <td>0.2</td>\n",
       "      <td>3.3440</td>\n",
       "      <td>1.930</td>\n",
       "      <td>High</td>\n",
       "      <td>0</td>\n",
       "    </tr>\n",
       "    <tr>\n",
       "      <th>51287</th>\n",
       "      <td>31315</td>\n",
       "      <td>CA-2012-ZD21925140-41147</td>\n",
       "      <td>2012-08-26</td>\n",
       "      <td>2012-08-31</td>\n",
       "      <td>Second Class</td>\n",
       "      <td>ZD-219251404</td>\n",
       "      <td>Zuschuss Donatelli</td>\n",
       "      <td>Consumer</td>\n",
       "      <td>94109.0</td>\n",
       "      <td>San Francisco</td>\n",
       "      <td>...</td>\n",
       "      <td>Office Supplies</td>\n",
       "      <td>Art</td>\n",
       "      <td>Newell 341</td>\n",
       "      <td>8.560</td>\n",
       "      <td>2</td>\n",
       "      <td>0.0</td>\n",
       "      <td>2.4824</td>\n",
       "      <td>1.580</td>\n",
       "      <td>High</td>\n",
       "      <td>0</td>\n",
       "    </tr>\n",
       "    <tr>\n",
       "      <th>51288</th>\n",
       "      <td>9596</td>\n",
       "      <td>MX-2013-RB1979518-41322</td>\n",
       "      <td>2013-02-17</td>\n",
       "      <td>2013-02-21</td>\n",
       "      <td>Standard Class</td>\n",
       "      <td>RB-1979518</td>\n",
       "      <td>Ross Baird</td>\n",
       "      <td>Home Office</td>\n",
       "      <td>NaN</td>\n",
       "      <td>Valinhos</td>\n",
       "      <td>...</td>\n",
       "      <td>Office Supplies</td>\n",
       "      <td>Binders</td>\n",
       "      <td>Acco Index Tab, Economy</td>\n",
       "      <td>13.440</td>\n",
       "      <td>2</td>\n",
       "      <td>0.0</td>\n",
       "      <td>2.4000</td>\n",
       "      <td>1.003</td>\n",
       "      <td>Medium</td>\n",
       "      <td>0</td>\n",
       "    </tr>\n",
       "    <tr>\n",
       "      <th>51289</th>\n",
       "      <td>6147</td>\n",
       "      <td>MX-2013-MC1810093-41416</td>\n",
       "      <td>2013-05-22</td>\n",
       "      <td>2013-05-26</td>\n",
       "      <td>Second Class</td>\n",
       "      <td>MC-1810093</td>\n",
       "      <td>Mick Crebagga</td>\n",
       "      <td>Consumer</td>\n",
       "      <td>NaN</td>\n",
       "      <td>Tipitapa</td>\n",
       "      <td>...</td>\n",
       "      <td>Office Supplies</td>\n",
       "      <td>Paper</td>\n",
       "      <td>Eaton Computer Printout Paper, 8.5 x 11</td>\n",
       "      <td>61.380</td>\n",
       "      <td>3</td>\n",
       "      <td>0.0</td>\n",
       "      <td>1.8000</td>\n",
       "      <td>1.002</td>\n",
       "      <td>High</td>\n",
       "      <td>0</td>\n",
       "    </tr>\n",
       "  </tbody>\n",
       "</table>\n",
       "<p>51290 rows × 25 columns</p>\n",
       "</div>"
      ],
      "text/plain": [
       "       Row ID                  Order ID Order Date  Ship Date       Ship Mode  \\\n",
       "0       40098  CA-2014-AB10015140-41954 2014-11-11 2014-11-13     First Class   \n",
       "1       26341    IN-2014-JR162107-41675 2014-02-05 2014-02-07    Second Class   \n",
       "2       25330    IN-2014-CR127307-41929 2014-10-17 2014-10-18     First Class   \n",
       "3       13524   ES-2014-KM1637548-41667 2014-01-28 2014-01-30     First Class   \n",
       "4       47221   SG-2014-RH9495111-41948 2014-11-05 2014-11-06        Same Day   \n",
       "...       ...                       ...        ...        ...             ...   \n",
       "51285   29002   IN-2015-KE1642066-42174 2015-06-19 2015-06-19        Same Day   \n",
       "51286   34337  US-2014-ZD21925140-41765 2014-05-06 2014-05-10  Standard Class   \n",
       "51287   31315  CA-2012-ZD21925140-41147 2012-08-26 2012-08-31    Second Class   \n",
       "51288    9596   MX-2013-RB1979518-41322 2013-02-17 2013-02-21  Standard Class   \n",
       "51289    6147   MX-2013-MC1810093-41416 2013-05-22 2013-05-26    Second Class   \n",
       "\n",
       "        Customer ID       Customer Name      Segment  Postal Code  \\\n",
       "0      AB-100151402       Aaron Bergman     Consumer      73120.0   \n",
       "1         JR-162107       Justin Ritter    Corporate          NaN   \n",
       "2         CR-127307        Craig Reiter     Consumer          NaN   \n",
       "3        KM-1637548    Katherine Murray  Home Office          NaN   \n",
       "4        RH-9495111         Rick Hansen     Consumer          NaN   \n",
       "...             ...                 ...          ...          ...   \n",
       "51285    KE-1642066     Katrina Edelman    Corporate          NaN   \n",
       "51286  ZD-219251408  Zuschuss Donatelli     Consumer      37421.0   \n",
       "51287  ZD-219251404  Zuschuss Donatelli     Consumer      94109.0   \n",
       "51288    RB-1979518          Ross Baird  Home Office          NaN   \n",
       "51289    MC-1810093       Mick Crebagga     Consumer          NaN   \n",
       "\n",
       "                City  ...         Category Sub-Category  \\\n",
       "0      Oklahoma City  ...       Technology       Phones   \n",
       "1         Wollongong  ...        Furniture       Chairs   \n",
       "2           Brisbane  ...       Technology       Phones   \n",
       "3             Berlin  ...       Technology       Phones   \n",
       "4              Dakar  ...       Technology      Copiers   \n",
       "...              ...  ...              ...          ...   \n",
       "51285           Kure  ...  Office Supplies    Fasteners   \n",
       "51286    Chattanooga  ...        Furniture  Furnishings   \n",
       "51287  San Francisco  ...  Office Supplies          Art   \n",
       "51288       Valinhos  ...  Office Supplies      Binders   \n",
       "51289       Tipitapa  ...  Office Supplies        Paper   \n",
       "\n",
       "                                        Product Name     Sales Quantity  \\\n",
       "0                                   Samsung Convoy 3   221.980        2   \n",
       "1          Novimex Executive Leather Armchair, Black  3709.395        9   \n",
       "2                  Nokia Smart Phone, with Caller ID  5175.171        9   \n",
       "3                     Motorola Smart Phone, Cordless  2892.510        5   \n",
       "4                     Sharp Wireless Fax, High-Speed  2832.960        8   \n",
       "...                                              ...       ...      ...   \n",
       "51285                  Advantus Thumb Tacks, 12 Pack    65.100        5   \n",
       "51286  Eldon Image Series Desk Accessories, Burgundy    16.720        5   \n",
       "51287                                     Newell 341     8.560        2   \n",
       "51288                        Acco Index Tab, Economy    13.440        2   \n",
       "51289        Eaton Computer Printout Paper, 8.5 x 11    61.380        3   \n",
       "\n",
       "      Discount    Profit Shipping Cost  Order Priority  new_column  \n",
       "0          0.0   62.1544        40.770            High  Technology  \n",
       "1          0.1 -288.7650       923.630        Critical           0  \n",
       "2          0.1  919.9710       915.490          Medium  Technology  \n",
       "3          0.1  -96.5400       910.160          Medium  Technology  \n",
       "4          0.0  311.5200       903.040        Critical  Technology  \n",
       "...        ...       ...           ...             ...         ...  \n",
       "51285      0.0    4.5000         1.010          Medium           0  \n",
       "51286      0.2    3.3440         1.930            High           0  \n",
       "51287      0.0    2.4824         1.580            High           0  \n",
       "51288      0.0    2.4000         1.003          Medium           0  \n",
       "51289      0.0    1.8000         1.002            High           0  \n",
       "\n",
       "[51290 rows x 25 columns]"
      ]
     },
     "execution_count": 5,
     "metadata": {},
     "output_type": "execute_result"
    }
   ],
   "source": [
    "df"
   ]
  },
  {
   "cell_type": "code",
   "execution_count": 6,
   "id": "f91a6b0f",
   "metadata": {},
   "outputs": [],
   "source": [
    "sub_category_iteams=(df['Sub-Category'].where(df['new_column']=='Technology' , other =np.nan))"
   ]
  },
  {
   "cell_type": "code",
   "execution_count": 7,
   "id": "9e31162c",
   "metadata": {},
   "outputs": [
    {
     "data": {
      "text/plain": [
       "0         Phones\n",
       "1            NaN\n",
       "2         Phones\n",
       "3         Phones\n",
       "4        Copiers\n",
       "          ...   \n",
       "51285        NaN\n",
       "51286        NaN\n",
       "51287        NaN\n",
       "51288        NaN\n",
       "51289        NaN\n",
       "Name: Sub-Category, Length: 51290, dtype: object"
      ]
     },
     "execution_count": 7,
     "metadata": {},
     "output_type": "execute_result"
    }
   ],
   "source": [
    "sub_category_iteams"
   ]
  },
  {
   "cell_type": "code",
   "execution_count": 8,
   "id": "5cc4fd0d",
   "metadata": {},
   "outputs": [
    {
     "data": {
      "text/plain": [
       "0             Phones\n",
       "2             Phones\n",
       "3             Phones\n",
       "4            Copiers\n",
       "5             Phones\n",
       "            ...     \n",
       "51216         Phones\n",
       "51227    Accessories\n",
       "51261         Phones\n",
       "51262         Phones\n",
       "51265         Phones\n",
       "Name: Sub-Category, Length: 10141, dtype: object"
      ]
     },
     "execution_count": 8,
     "metadata": {},
     "output_type": "execute_result"
    }
   ],
   "source": [
    "sub_category_iteams.dropna()"
   ]
  },
  {
   "cell_type": "code",
   "execution_count": 9,
   "id": "d3093ddf",
   "metadata": {},
   "outputs": [
    {
     "data": {
      "text/plain": [
       "Phones         3357\n",
       "Accessories    3075\n",
       "Copiers        2223\n",
       "Machines       1486\n",
       "Name: Sub-Category, dtype: int64"
      ]
     },
     "execution_count": 9,
     "metadata": {},
     "output_type": "execute_result"
    }
   ],
   "source": [
    "sub_category_iteams.value_counts()"
   ]
  },
  {
   "cell_type": "code",
   "execution_count": 10,
   "id": "a4e0d439",
   "metadata": {},
   "outputs": [
    {
     "data": {
      "text/plain": [
       "<Axes: >"
      ]
     },
     "execution_count": 10,
     "metadata": {},
     "output_type": "execute_result"
    },
    {
     "data": {
      "image/png": "[encoded data removed]",
      "text/plain": [
       "<Figure size 640x480 with 1 Axes>"
      ]
     },
     "metadata": {},
     "output_type": "display_data"
    }
   ],
   "source": [
    "sub_category_iteams.value_counts().plot(kind='bar')"
   ]
  },
  {
   "cell_type": "code",
   "execution_count": 11,
   "id": "4b41ced9",
   "metadata": {},
   "outputs": [],
   "source": [
    "a=(df['Customer Name'].where(df['Sub-Category']=='Phones',other =0)).unique()"
   ]
  },
  {
   "cell_type": "code",
   "execution_count": 12,
   "id": "f31734d5",
   "metadata": {},
   "outputs": [],
   "source": [
    "b=pd.DataFrame(a)"
   ]
  },
  {
   "cell_type": "code",
   "execution_count": 13,
   "id": "03ad4623",
   "metadata": {},
   "outputs": [
    {
     "data": {
      "text/html": [
       "<div>\n",
       "<style scoped>\n",
       "    .dataframe tbody tr th:only-of-type {\n",
       "        vertical-align: middle;\n",
       "    }\n",
       "\n",
       "    .dataframe tbody tr th {\n",
       "        vertical-align: top;\n",
       "    }\n",
       "\n",
       "    .dataframe thead th {\n",
       "        text-align: right;\n",
       "    }\n",
       "</style>\n",
       "<table border=\"1\" class=\"dataframe\">\n",
       "  <thead>\n",
       "    <tr style=\"text-align: right;\">\n",
       "      <th></th>\n",
       "      <th>0</th>\n",
       "    </tr>\n",
       "  </thead>\n",
       "  <tbody>\n",
       "    <tr>\n",
       "      <th>0</th>\n",
       "      <td>Aaron Bergman</td>\n",
       "    </tr>\n",
       "    <tr>\n",
       "      <th>1</th>\n",
       "      <td>0</td>\n",
       "    </tr>\n",
       "    <tr>\n",
       "      <th>2</th>\n",
       "      <td>Craig Reiter</td>\n",
       "    </tr>\n",
       "    <tr>\n",
       "      <th>3</th>\n",
       "      <td>Katherine Murray</td>\n",
       "    </tr>\n",
       "    <tr>\n",
       "      <th>4</th>\n",
       "      <td>Jim Mitchum</td>\n",
       "    </tr>\n",
       "    <tr>\n",
       "      <th>...</th>\n",
       "      <td>...</td>\n",
       "    </tr>\n",
       "    <tr>\n",
       "      <th>776</th>\n",
       "      <td>Sung Pak</td>\n",
       "    </tr>\n",
       "    <tr>\n",
       "      <th>777</th>\n",
       "      <td>Ted Trevino</td>\n",
       "    </tr>\n",
       "    <tr>\n",
       "      <th>778</th>\n",
       "      <td>Toby Gnade</td>\n",
       "    </tr>\n",
       "    <tr>\n",
       "      <th>779</th>\n",
       "      <td>Trudy Brown</td>\n",
       "    </tr>\n",
       "    <tr>\n",
       "      <th>780</th>\n",
       "      <td>Vivian Mathis</td>\n",
       "    </tr>\n",
       "  </tbody>\n",
       "</table>\n",
       "<p>781 rows × 1 columns</p>\n",
       "</div>"
      ],
      "text/plain": [
       "                    0\n",
       "0       Aaron Bergman\n",
       "1                   0\n",
       "2        Craig Reiter\n",
       "3    Katherine Murray\n",
       "4         Jim Mitchum\n",
       "..                ...\n",
       "776          Sung Pak\n",
       "777       Ted Trevino\n",
       "778        Toby Gnade\n",
       "779       Trudy Brown\n",
       "780     Vivian Mathis\n",
       "\n",
       "[781 rows x 1 columns]"
      ]
     },
     "execution_count": 13,
     "metadata": {},
     "output_type": "execute_result"
    }
   ],
   "source": [
    "b"
   ]
  },
  {
   "cell_type": "code",
   "execution_count": 14,
   "id": "815973f5",
   "metadata": {},
   "outputs": [
    {
     "data": {
      "text/html": [
       "<div>\n",
       "<style scoped>\n",
       "    .dataframe tbody tr th:only-of-type {\n",
       "        vertical-align: middle;\n",
       "    }\n",
       "\n",
       "    .dataframe tbody tr th {\n",
       "        vertical-align: top;\n",
       "    }\n",
       "\n",
       "    .dataframe thead th {\n",
       "        text-align: right;\n",
       "    }\n",
       "</style>\n",
       "<table border=\"1\" class=\"dataframe\">\n",
       "  <thead>\n",
       "    <tr style=\"text-align: right;\">\n",
       "      <th></th>\n",
       "      <th>0</th>\n",
       "    </tr>\n",
       "  </thead>\n",
       "  <tbody>\n",
       "    <tr>\n",
       "      <th>0</th>\n",
       "      <td>Aaron Bergman</td>\n",
       "    </tr>\n",
       "    <tr>\n",
       "      <th>1</th>\n",
       "      <td>0</td>\n",
       "    </tr>\n",
       "    <tr>\n",
       "      <th>2</th>\n",
       "      <td>Craig Reiter</td>\n",
       "    </tr>\n",
       "    <tr>\n",
       "      <th>3</th>\n",
       "      <td>Katherine Murray</td>\n",
       "    </tr>\n",
       "    <tr>\n",
       "      <th>4</th>\n",
       "      <td>Jim Mitchum</td>\n",
       "    </tr>\n",
       "    <tr>\n",
       "      <th>...</th>\n",
       "      <td>...</td>\n",
       "    </tr>\n",
       "    <tr>\n",
       "      <th>776</th>\n",
       "      <td>Sung Pak</td>\n",
       "    </tr>\n",
       "    <tr>\n",
       "      <th>777</th>\n",
       "      <td>Ted Trevino</td>\n",
       "    </tr>\n",
       "    <tr>\n",
       "      <th>778</th>\n",
       "      <td>Toby Gnade</td>\n",
       "    </tr>\n",
       "    <tr>\n",
       "      <th>779</th>\n",
       "      <td>Trudy Brown</td>\n",
       "    </tr>\n",
       "    <tr>\n",
       "      <th>780</th>\n",
       "      <td>Vivian Mathis</td>\n",
       "    </tr>\n",
       "  </tbody>\n",
       "</table>\n",
       "<p>781 rows × 1 columns</p>\n",
       "</div>"
      ],
      "text/plain": [
       "                    0\n",
       "0       Aaron Bergman\n",
       "1                   0\n",
       "2        Craig Reiter\n",
       "3    Katherine Murray\n",
       "4         Jim Mitchum\n",
       "..                ...\n",
       "776          Sung Pak\n",
       "777       Ted Trevino\n",
       "778        Toby Gnade\n",
       "779       Trudy Brown\n",
       "780     Vivian Mathis\n",
       "\n",
       "[781 rows x 1 columns]"
      ]
     },
     "execution_count": 14,
     "metadata": {},
     "output_type": "execute_result"
    }
   ],
   "source": [
    "b.dropna()"
   ]
  },
  {
   "cell_type": "code",
   "execution_count": 15,
   "id": "d5b8a4eb",
   "metadata": {},
   "outputs": [],
   "source": [
    "b.drop([1],axis=0,inplace=True)"
   ]
  },
  {
   "cell_type": "code",
   "execution_count": 16,
   "id": "385e7805",
   "metadata": {},
   "outputs": [
    {
     "data": {
      "text/html": [
       "<div>\n",
       "<style scoped>\n",
       "    .dataframe tbody tr th:only-of-type {\n",
       "        vertical-align: middle;\n",
       "    }\n",
       "\n",
       "    .dataframe tbody tr th {\n",
       "        vertical-align: top;\n",
       "    }\n",
       "\n",
       "    .dataframe thead th {\n",
       "        text-align: right;\n",
       "    }\n",
       "</style>\n",
       "<table border=\"1\" class=\"dataframe\">\n",
       "  <thead>\n",
       "    <tr style=\"text-align: right;\">\n",
       "      <th></th>\n",
       "      <th>index</th>\n",
       "      <th>0</th>\n",
       "    </tr>\n",
       "  </thead>\n",
       "  <tbody>\n",
       "    <tr>\n",
       "      <th>0</th>\n",
       "      <td>0</td>\n",
       "      <td>Aaron Bergman</td>\n",
       "    </tr>\n",
       "    <tr>\n",
       "      <th>1</th>\n",
       "      <td>2</td>\n",
       "      <td>Craig Reiter</td>\n",
       "    </tr>\n",
       "    <tr>\n",
       "      <th>2</th>\n",
       "      <td>3</td>\n",
       "      <td>Katherine Murray</td>\n",
       "    </tr>\n",
       "    <tr>\n",
       "      <th>3</th>\n",
       "      <td>4</td>\n",
       "      <td>Jim Mitchum</td>\n",
       "    </tr>\n",
       "    <tr>\n",
       "      <th>4</th>\n",
       "      <td>5</td>\n",
       "      <td>Magdelene Morse</td>\n",
       "    </tr>\n",
       "    <tr>\n",
       "      <th>...</th>\n",
       "      <td>...</td>\n",
       "      <td>...</td>\n",
       "    </tr>\n",
       "    <tr>\n",
       "      <th>775</th>\n",
       "      <td>776</td>\n",
       "      <td>Sung Pak</td>\n",
       "    </tr>\n",
       "    <tr>\n",
       "      <th>776</th>\n",
       "      <td>777</td>\n",
       "      <td>Ted Trevino</td>\n",
       "    </tr>\n",
       "    <tr>\n",
       "      <th>777</th>\n",
       "      <td>778</td>\n",
       "      <td>Toby Gnade</td>\n",
       "    </tr>\n",
       "    <tr>\n",
       "      <th>778</th>\n",
       "      <td>779</td>\n",
       "      <td>Trudy Brown</td>\n",
       "    </tr>\n",
       "    <tr>\n",
       "      <th>779</th>\n",
       "      <td>780</td>\n",
       "      <td>Vivian Mathis</td>\n",
       "    </tr>\n",
       "  </tbody>\n",
       "</table>\n",
       "<p>780 rows × 2 columns</p>\n",
       "</div>"
      ],
      "text/plain": [
       "     index                 0\n",
       "0        0     Aaron Bergman\n",
       "1        2      Craig Reiter\n",
       "2        3  Katherine Murray\n",
       "3        4       Jim Mitchum\n",
       "4        5   Magdelene Morse\n",
       "..     ...               ...\n",
       "775    776          Sung Pak\n",
       "776    777       Ted Trevino\n",
       "777    778        Toby Gnade\n",
       "778    779       Trudy Brown\n",
       "779    780     Vivian Mathis\n",
       "\n",
       "[780 rows x 2 columns]"
      ]
     },
     "execution_count": 16,
     "metadata": {},
     "output_type": "execute_result"
    }
   ],
   "source": [
    "b=b.reset_index()\n",
    "b"
   ]
  },
  {
   "cell_type": "code",
   "execution_count": 144,
   "id": "5b701990",
   "metadata": {},
   "outputs": [
    {
     "data": {
      "text/html": [
       "<div>\n",
       "<style scoped>\n",
       "    .dataframe tbody tr th:only-of-type {\n",
       "        vertical-align: middle;\n",
       "    }\n",
       "\n",
       "    .dataframe tbody tr th {\n",
       "        vertical-align: top;\n",
       "    }\n",
       "\n",
       "    .dataframe thead th {\n",
       "        text-align: right;\n",
       "    }\n",
       "</style>\n",
       "<table border=\"1\" class=\"dataframe\">\n",
       "  <thead>\n",
       "    <tr style=\"text-align: right;\">\n",
       "      <th></th>\n",
       "      <th>index</th>\n",
       "      <th>0</th>\n",
       "    </tr>\n",
       "  </thead>\n",
       "  <tbody>\n",
       "    <tr>\n",
       "      <th>0</th>\n",
       "      <td>0</td>\n",
       "      <td>Aaron Bergman</td>\n",
       "    </tr>\n",
       "    <tr>\n",
       "      <th>1</th>\n",
       "      <td>2</td>\n",
       "      <td>Craig Reiter</td>\n",
       "    </tr>\n",
       "    <tr>\n",
       "      <th>2</th>\n",
       "      <td>3</td>\n",
       "      <td>Katherine Murray</td>\n",
       "    </tr>\n",
       "    <tr>\n",
       "      <th>3</th>\n",
       "      <td>4</td>\n",
       "      <td>Jim Mitchum</td>\n",
       "    </tr>\n",
       "    <tr>\n",
       "      <th>4</th>\n",
       "      <td>5</td>\n",
       "      <td>Magdelene Morse</td>\n",
       "    </tr>\n",
       "    <tr>\n",
       "      <th>5</th>\n",
       "      <td>6</td>\n",
       "      <td>Naresj Patel</td>\n",
       "    </tr>\n",
       "    <tr>\n",
       "      <th>6</th>\n",
       "      <td>7</td>\n",
       "      <td>Rick Reed</td>\n",
       "    </tr>\n",
       "    <tr>\n",
       "      <th>7</th>\n",
       "      <td>8</td>\n",
       "      <td>Aaron Hawkins</td>\n",
       "    </tr>\n",
       "    <tr>\n",
       "      <th>8</th>\n",
       "      <td>9</td>\n",
       "      <td>Dan Lawera</td>\n",
       "    </tr>\n",
       "    <tr>\n",
       "      <th>9</th>\n",
       "      <td>10</td>\n",
       "      <td>Joy Bell-</td>\n",
       "    </tr>\n",
       "  </tbody>\n",
       "</table>\n",
       "</div>"
      ],
      "text/plain": [
       "   index                 0\n",
       "0      0     Aaron Bergman\n",
       "1      2      Craig Reiter\n",
       "2      3  Katherine Murray\n",
       "3      4       Jim Mitchum\n",
       "4      5   Magdelene Morse\n",
       "5      6      Naresj Patel\n",
       "6      7         Rick Reed\n",
       "7      8     Aaron Hawkins\n",
       "8      9        Dan Lawera\n",
       "9     10         Joy Bell-"
      ]
     },
     "execution_count": 144,
     "metadata": {},
     "output_type": "execute_result"
    }
   ],
   "source": [
    "b.drop(columns='index')\n",
    "b.head(10)"
   ]
  },
  {
   "cell_type": "code",
   "execution_count": 146,
   "id": "77f5400d",
   "metadata": {},
   "outputs": [
    {
     "data": {
      "text/plain": [
       "New York City    915\n",
       "Los Angeles      747\n",
       "Philadelphia     537\n",
       "San Francisco    510\n",
       "Santo Domingo    443\n",
       "Manila           432\n",
       "Seattle          428\n",
       "Houston          377\n",
       "Tegucigalpa      362\n",
       "Jakarta          337\n",
       "Name: City, dtype: int64"
      ]
     },
     "execution_count": 146,
     "metadata": {},
     "output_type": "execute_result"
    }
   ],
   "source": [
    "df['City'].value_counts().head(10)"
   ]
  },
  {
   "cell_type": "code",
   "execution_count": 19,
   "id": "20d428e4",
   "metadata": {},
   "outputs": [
    {
     "data": {
      "text/plain": [
       "22638.48"
      ]
     },
     "execution_count": 19,
     "metadata": {},
     "output_type": "execute_result"
    }
   ],
   "source": [
    "df['Sales'].max()\n"
   ]
  },
  {
   "cell_type": "code",
   "execution_count": 20,
   "id": "eacbc53f",
   "metadata": {},
   "outputs": [
    {
     "data": {
      "text/plain": [
       "0.44399999999999995"
      ]
     },
     "execution_count": 20,
     "metadata": {},
     "output_type": "execute_result"
    }
   ],
   "source": [
    "df['Sales'].min()"
   ]
  },
  {
   "cell_type": "code",
   "execution_count": 21,
   "id": "0f98e63a",
   "metadata": {},
   "outputs": [
    {
     "data": {
      "text/plain": [
       "Jacksonville    1\n",
       "Name: City, dtype: int64"
      ]
     },
     "execution_count": 21,
     "metadata": {},
     "output_type": "execute_result"
    }
   ],
   "source": [
    "(df['City'].where(df['Sales']==22638.48 )).value_counts()"
   ]
  },
  {
   "cell_type": "code",
   "execution_count": 22,
   "id": "0e9e34bf",
   "metadata": {},
   "outputs": [
    {
     "data": {
      "text/plain": [
       "Houston    1\n",
       "Name: City, dtype: int64"
      ]
     },
     "execution_count": 22,
     "metadata": {},
     "output_type": "execute_result"
    }
   ],
   "source": [
    "(df['City'].where(df['Sales']==0.44399999999999995)).value_counts()"
   ]
  },
  {
   "cell_type": "code",
   "execution_count": 23,
   "id": "b8b9d2f0",
   "metadata": {},
   "outputs": [
    {
     "data": {
      "text/plain": [
       "1467457.2912799998"
      ]
     },
     "execution_count": 23,
     "metadata": {},
     "output_type": "execute_result"
    }
   ],
   "source": [
    "df['Profit'].sum()"
   ]
  },
  {
   "cell_type": "code",
   "execution_count": null,
   "id": "4a12642b",
   "metadata": {},
   "outputs": [],
   "source": []
  },
  {
   "cell_type": "code",
   "execution_count": 24,
   "id": "ae63cdc6",
   "metadata": {},
   "outputs": [],
   "source": [
    "bb=(df['Product Name'].where(df['Sub-Category']=='Phones',other =np.nan))"
   ]
  },
  {
   "cell_type": "code",
   "execution_count": 25,
   "id": "0a08852f",
   "metadata": {},
   "outputs": [],
   "source": [
    "phones_selled=bb.dropna()"
   ]
  },
  {
   "cell_type": "code",
   "execution_count": 26,
   "id": "9f4f8d41",
   "metadata": {},
   "outputs": [
    {
     "data": {
      "text/html": [
       "<div>\n",
       "<style scoped>\n",
       "    .dataframe tbody tr th:only-of-type {\n",
       "        vertical-align: middle;\n",
       "    }\n",
       "\n",
       "    .dataframe tbody tr th {\n",
       "        vertical-align: top;\n",
       "    }\n",
       "\n",
       "    .dataframe thead th {\n",
       "        text-align: right;\n",
       "    }\n",
       "</style>\n",
       "<table border=\"1\" class=\"dataframe\">\n",
       "  <thead>\n",
       "    <tr style=\"text-align: right;\">\n",
       "      <th></th>\n",
       "      <th>Product Name</th>\n",
       "    </tr>\n",
       "  </thead>\n",
       "  <tbody>\n",
       "    <tr>\n",
       "      <th>0</th>\n",
       "      <td>Samsung Convoy 3</td>\n",
       "    </tr>\n",
       "    <tr>\n",
       "      <th>2</th>\n",
       "      <td>Nokia Smart Phone, with Caller ID</td>\n",
       "    </tr>\n",
       "    <tr>\n",
       "      <th>3</th>\n",
       "      <td>Motorola Smart Phone, Cordless</td>\n",
       "    </tr>\n",
       "    <tr>\n",
       "      <th>5</th>\n",
       "      <td>Samsung Smart Phone, with Caller ID</td>\n",
       "    </tr>\n",
       "    <tr>\n",
       "      <th>12</th>\n",
       "      <td>Cisco Smart Phone, with Caller ID</td>\n",
       "    </tr>\n",
       "    <tr>\n",
       "      <th>...</th>\n",
       "      <td>...</td>\n",
       "    </tr>\n",
       "    <tr>\n",
       "      <th>51200</th>\n",
       "      <td>Cisco Unified IP Phone 7945G VoIP phone</td>\n",
       "    </tr>\n",
       "    <tr>\n",
       "      <th>51216</th>\n",
       "      <td>i.Sound Portable Power - 8000 mAh</td>\n",
       "    </tr>\n",
       "    <tr>\n",
       "      <th>51261</th>\n",
       "      <td>Jabra SPEAK 410 Multidevice Speakerphone</td>\n",
       "    </tr>\n",
       "    <tr>\n",
       "      <th>51262</th>\n",
       "      <td>Cisco SPA 501G IP Phone</td>\n",
       "    </tr>\n",
       "    <tr>\n",
       "      <th>51265</th>\n",
       "      <td>Plantronics Voyager Pro HD - Bluetooth Headset</td>\n",
       "    </tr>\n",
       "  </tbody>\n",
       "</table>\n",
       "<p>3357 rows × 1 columns</p>\n",
       "</div>"
      ],
      "text/plain": [
       "                                         Product Name\n",
       "0                                    Samsung Convoy 3\n",
       "2                   Nokia Smart Phone, with Caller ID\n",
       "3                      Motorola Smart Phone, Cordless\n",
       "5                 Samsung Smart Phone, with Caller ID\n",
       "12                  Cisco Smart Phone, with Caller ID\n",
       "...                                               ...\n",
       "51200         Cisco Unified IP Phone 7945G VoIP phone\n",
       "51216               i.Sound Portable Power - 8000 mAh\n",
       "51261        Jabra SPEAK 410 Multidevice Speakerphone\n",
       "51262                         Cisco SPA 501G IP Phone\n",
       "51265  Plantronics Voyager Pro HD - Bluetooth Headset\n",
       "\n",
       "[3357 rows x 1 columns]"
      ]
     },
     "execution_count": 26,
     "metadata": {},
     "output_type": "execute_result"
    }
   ],
   "source": [
    "pd.DataFrame(phones_selled)"
   ]
  },
  {
   "cell_type": "code",
   "execution_count": 27,
   "id": "5fe0e090",
   "metadata": {},
   "outputs": [],
   "source": [
    "highest_selled_phones=pd.DataFrame(phones_selled.value_counts())"
   ]
  },
  {
   "cell_type": "code",
   "execution_count": 28,
   "id": "47499a2f",
   "metadata": {},
   "outputs": [
    {
     "data": {
      "text/html": [
       "<div>\n",
       "<style scoped>\n",
       "    .dataframe tbody tr th:only-of-type {\n",
       "        vertical-align: middle;\n",
       "    }\n",
       "\n",
       "    .dataframe tbody tr th {\n",
       "        vertical-align: top;\n",
       "    }\n",
       "\n",
       "    .dataframe thead th {\n",
       "        text-align: right;\n",
       "    }\n",
       "</style>\n",
       "<table border=\"1\" class=\"dataframe\">\n",
       "  <thead>\n",
       "    <tr style=\"text-align: right;\">\n",
       "      <th></th>\n",
       "      <th>Product Name</th>\n",
       "    </tr>\n",
       "  </thead>\n",
       "  <tbody>\n",
       "    <tr>\n",
       "      <th>Apple Smart Phone, Full Size</th>\n",
       "      <td>51</td>\n",
       "    </tr>\n",
       "    <tr>\n",
       "      <th>Nokia Smart Phone, Full Size</th>\n",
       "      <td>47</td>\n",
       "    </tr>\n",
       "    <tr>\n",
       "      <th>Cisco Smart Phone, Full Size</th>\n",
       "      <td>38</td>\n",
       "    </tr>\n",
       "    <tr>\n",
       "      <th>Motorola Smart Phone, Full Size</th>\n",
       "      <td>38</td>\n",
       "    </tr>\n",
       "    <tr>\n",
       "      <th>Nokia Audio Dock, VoIP</th>\n",
       "      <td>29</td>\n",
       "    </tr>\n",
       "    <tr>\n",
       "      <th>...</th>\n",
       "      <td>...</td>\n",
       "    </tr>\n",
       "    <tr>\n",
       "      <th>Avaya IP Phone 1140E VoIP phone</th>\n",
       "      <td>1</td>\n",
       "    </tr>\n",
       "    <tr>\n",
       "      <th>Pyle PRT45 Retro Home Telephone</th>\n",
       "      <td>1</td>\n",
       "    </tr>\n",
       "    <tr>\n",
       "      <th>RCA ViSYS 25425RE1 Corded phone</th>\n",
       "      <td>1</td>\n",
       "    </tr>\n",
       "    <tr>\n",
       "      <th>Panasonic Business Telephones KX-T7736</th>\n",
       "      <td>1</td>\n",
       "    </tr>\n",
       "    <tr>\n",
       "      <th>Cisco SPA 501G IP Phone</th>\n",
       "      <td>1</td>\n",
       "    </tr>\n",
       "  </tbody>\n",
       "</table>\n",
       "<p>305 rows × 1 columns</p>\n",
       "</div>"
      ],
      "text/plain": [
       "                                        Product Name\n",
       "Apple Smart Phone, Full Size                      51\n",
       "Nokia Smart Phone, Full Size                      47\n",
       "Cisco Smart Phone, Full Size                      38\n",
       "Motorola Smart Phone, Full Size                   38\n",
       "Nokia Audio Dock, VoIP                            29\n",
       "...                                              ...\n",
       "Avaya IP Phone 1140E VoIP phone                    1\n",
       "Pyle PRT45 Retro Home Telephone                    1\n",
       "RCA ViSYS 25425RE1 Corded phone                    1\n",
       "Panasonic Business Telephones KX-T7736             1\n",
       "Cisco SPA 501G IP Phone                            1\n",
       "\n",
       "[305 rows x 1 columns]"
      ]
     },
     "execution_count": 28,
     "metadata": {},
     "output_type": "execute_result"
    }
   ],
   "source": [
    "highest_selled_phones"
   ]
  },
  {
   "cell_type": "code",
   "execution_count": 29,
   "id": "c067993a",
   "metadata": {},
   "outputs": [
    {
     "data": {
      "text/plain": [
       "Binders        6146\n",
       "Storage        5049\n",
       "Art            4864\n",
       "Paper          3492\n",
       "Chairs         3434\n",
       "Phones         3357\n",
       "Furnishings    3154\n",
       "Accessories    3075\n",
       "Labels         2601\n",
       "Fasteners      2601\n",
       "Bookcases      2411\n",
       "Supplies       2407\n",
       "Envelopes      2387\n",
       "Copiers        2223\n",
       "Appliances     1742\n",
       "Machines       1486\n",
       "Tables          861\n",
       "Name: Sub-Category, dtype: int64"
      ]
     },
     "execution_count": 29,
     "metadata": {},
     "output_type": "execute_result"
    }
   ],
   "source": [
    "df['Sub-Category'].value_counts()"
   ]
  },
  {
   "cell_type": "code",
   "execution_count": 30,
   "id": "294cc5ab",
   "metadata": {
    "scrolled": true
   },
   "outputs": [
    {
     "data": {
      "text/plain": [
       "0        NaN\n",
       "1        NaN\n",
       "2        NaN\n",
       "3        NaN\n",
       "4        NaN\n",
       "        ... \n",
       "51285    NaN\n",
       "51286    NaN\n",
       "51287    NaN\n",
       "51288    NaN\n",
       "51289    NaN\n",
       "Name: Product Name, Length: 51290, dtype: object"
      ]
     },
     "execution_count": 30,
     "metadata": {},
     "output_type": "execute_result"
    }
   ],
   "source": [
    "cc=(df['Product Name'].where(df['Sub-Category']=='Machines',other =np.nan))\n",
    "cc"
   ]
  },
  {
   "cell_type": "code",
   "execution_count": 31,
   "id": "e85cbe82",
   "metadata": {},
   "outputs": [
    {
     "data": {
      "text/plain": [
       "31                                Okidata Inkjet, Wireless\n",
       "48                                    Konica Inkjet, White\n",
       "65       Cisco CP-7937G Unified IP Conference Station P...\n",
       "76                             Bady BDG101FRU Card Printer\n",
       "98                                  Panasonic Printer, Red\n",
       "                               ...                        \n",
       "50735                                Konica Phone, Durable\n",
       "50805                   Cisco 9971 IP Video Phone Charcoal\n",
       "50858                                 Epson Phone, Durable\n",
       "50881                                Epson Phone, Wireless\n",
       "50948                Hewlett-Packard Deskjet D4360 Printer\n",
       "Name: Product Name, Length: 1486, dtype: object"
      ]
     },
     "execution_count": 31,
     "metadata": {},
     "output_type": "execute_result"
    }
   ],
   "source": [
    "Machines_selled=cc.dropna()\n",
    "Machines_selled"
   ]
  },
  {
   "cell_type": "code",
   "execution_count": 32,
   "id": "24b3b41a",
   "metadata": {},
   "outputs": [
    {
     "data": {
      "text/html": [
       "<div>\n",
       "<style scoped>\n",
       "    .dataframe tbody tr th:only-of-type {\n",
       "        vertical-align: middle;\n",
       "    }\n",
       "\n",
       "    .dataframe tbody tr th {\n",
       "        vertical-align: top;\n",
       "    }\n",
       "\n",
       "    .dataframe thead th {\n",
       "        text-align: right;\n",
       "    }\n",
       "</style>\n",
       "<table border=\"1\" class=\"dataframe\">\n",
       "  <thead>\n",
       "    <tr style=\"text-align: right;\">\n",
       "      <th></th>\n",
       "      <th>Product Name</th>\n",
       "    </tr>\n",
       "  </thead>\n",
       "  <tbody>\n",
       "    <tr>\n",
       "      <th>31</th>\n",
       "      <td>Okidata Inkjet, Wireless</td>\n",
       "    </tr>\n",
       "    <tr>\n",
       "      <th>48</th>\n",
       "      <td>Konica Inkjet, White</td>\n",
       "    </tr>\n",
       "    <tr>\n",
       "      <th>65</th>\n",
       "      <td>Cisco CP-7937G Unified IP Conference Station P...</td>\n",
       "    </tr>\n",
       "    <tr>\n",
       "      <th>76</th>\n",
       "      <td>Bady BDG101FRU Card Printer</td>\n",
       "    </tr>\n",
       "    <tr>\n",
       "      <th>98</th>\n",
       "      <td>Panasonic Printer, Red</td>\n",
       "    </tr>\n",
       "    <tr>\n",
       "      <th>...</th>\n",
       "      <td>...</td>\n",
       "    </tr>\n",
       "    <tr>\n",
       "      <th>50735</th>\n",
       "      <td>Konica Phone, Durable</td>\n",
       "    </tr>\n",
       "    <tr>\n",
       "      <th>50805</th>\n",
       "      <td>Cisco 9971 IP Video Phone Charcoal</td>\n",
       "    </tr>\n",
       "    <tr>\n",
       "      <th>50858</th>\n",
       "      <td>Epson Phone, Durable</td>\n",
       "    </tr>\n",
       "    <tr>\n",
       "      <th>50881</th>\n",
       "      <td>Epson Phone, Wireless</td>\n",
       "    </tr>\n",
       "    <tr>\n",
       "      <th>50948</th>\n",
       "      <td>Hewlett-Packard Deskjet D4360 Printer</td>\n",
       "    </tr>\n",
       "  </tbody>\n",
       "</table>\n",
       "<p>1486 rows × 1 columns</p>\n",
       "</div>"
      ],
      "text/plain": [
       "                                            Product Name\n",
       "31                              Okidata Inkjet, Wireless\n",
       "48                                  Konica Inkjet, White\n",
       "65     Cisco CP-7937G Unified IP Conference Station P...\n",
       "76                           Bady BDG101FRU Card Printer\n",
       "98                                Panasonic Printer, Red\n",
       "...                                                  ...\n",
       "50735                              Konica Phone, Durable\n",
       "50805                 Cisco 9971 IP Video Phone Charcoal\n",
       "50858                               Epson Phone, Durable\n",
       "50881                              Epson Phone, Wireless\n",
       "50948              Hewlett-Packard Deskjet D4360 Printer\n",
       "\n",
       "[1486 rows x 1 columns]"
      ]
     },
     "execution_count": 32,
     "metadata": {},
     "output_type": "execute_result"
    }
   ],
   "source": [
    "pd.DataFrame(Machines_selled)"
   ]
  },
  {
   "cell_type": "code",
   "execution_count": 33,
   "id": "9f1b85ce",
   "metadata": {},
   "outputs": [],
   "source": [
    "highest_selled_Machines=pd.DataFrame(Machines_selled.value_counts())"
   ]
  },
  {
   "cell_type": "code",
   "execution_count": 34,
   "id": "70871807",
   "metadata": {},
   "outputs": [
    {
     "data": {
      "text/html": [
       "<div>\n",
       "<style scoped>\n",
       "    .dataframe tbody tr th:only-of-type {\n",
       "        vertical-align: middle;\n",
       "    }\n",
       "\n",
       "    .dataframe tbody tr th {\n",
       "        vertical-align: top;\n",
       "    }\n",
       "\n",
       "    .dataframe thead th {\n",
       "        text-align: right;\n",
       "    }\n",
       "</style>\n",
       "<table border=\"1\" class=\"dataframe\">\n",
       "  <thead>\n",
       "    <tr style=\"text-align: right;\">\n",
       "      <th></th>\n",
       "      <th>Product Name</th>\n",
       "    </tr>\n",
       "  </thead>\n",
       "  <tbody>\n",
       "    <tr>\n",
       "      <th>Okidata Inkjet, Wireless</th>\n",
       "      <td>26</td>\n",
       "    </tr>\n",
       "    <tr>\n",
       "      <th>StarTech Inkjet, Wireless</th>\n",
       "      <td>23</td>\n",
       "    </tr>\n",
       "    <tr>\n",
       "      <th>Konica Inkjet, Wireless</th>\n",
       "      <td>22</td>\n",
       "    </tr>\n",
       "    <tr>\n",
       "      <th>Epson Inkjet, Wireless</th>\n",
       "      <td>20</td>\n",
       "    </tr>\n",
       "    <tr>\n",
       "      <th>Konica Card Printer, Red</th>\n",
       "      <td>19</td>\n",
       "    </tr>\n",
       "    <tr>\n",
       "      <th>Konica Phone, Red</th>\n",
       "      <td>19</td>\n",
       "    </tr>\n",
       "    <tr>\n",
       "      <th>Konica Inkjet, White</th>\n",
       "      <td>18</td>\n",
       "    </tr>\n",
       "    <tr>\n",
       "      <th>Okidata Printer, White</th>\n",
       "      <td>18</td>\n",
       "    </tr>\n",
       "    <tr>\n",
       "      <th>Epson Card Printer, Durable</th>\n",
       "      <td>18</td>\n",
       "    </tr>\n",
       "    <tr>\n",
       "      <th>StarTech Calculator, Red</th>\n",
       "      <td>18</td>\n",
       "    </tr>\n",
       "  </tbody>\n",
       "</table>\n",
       "</div>"
      ],
      "text/plain": [
       "                             Product Name\n",
       "Okidata Inkjet, Wireless               26\n",
       "StarTech Inkjet, Wireless              23\n",
       "Konica Inkjet, Wireless                22\n",
       "Epson Inkjet, Wireless                 20\n",
       "Konica Card Printer, Red               19\n",
       "Konica Phone, Red                      19\n",
       "Konica Inkjet, White                   18\n",
       "Okidata Printer, White                 18\n",
       "Epson Card Printer, Durable            18\n",
       "StarTech Calculator, Red               18"
      ]
     },
     "execution_count": 34,
     "metadata": {},
     "output_type": "execute_result"
    }
   ],
   "source": [
    "highest_selled_Machines.head(10)"
   ]
  },
  {
   "cell_type": "code",
   "execution_count": 35,
   "id": "9829e428",
   "metadata": {},
   "outputs": [],
   "source": [
    "za=(df['Sales'].where(df['Sub-Category']=='Phones' , other =np.nan))\n"
   ]
  },
  {
   "cell_type": "code",
   "execution_count": 36,
   "id": "db900df1",
   "metadata": {},
   "outputs": [
    {
     "data": {
      "text/html": [
       "<div>\n",
       "<style scoped>\n",
       "    .dataframe tbody tr th:only-of-type {\n",
       "        vertical-align: middle;\n",
       "    }\n",
       "\n",
       "    .dataframe tbody tr th {\n",
       "        vertical-align: top;\n",
       "    }\n",
       "\n",
       "    .dataframe thead th {\n",
       "        text-align: right;\n",
       "    }\n",
       "</style>\n",
       "<table border=\"1\" class=\"dataframe\">\n",
       "  <thead>\n",
       "    <tr style=\"text-align: right;\">\n",
       "      <th></th>\n",
       "      <th>Sales</th>\n",
       "    </tr>\n",
       "  </thead>\n",
       "  <tbody>\n",
       "    <tr>\n",
       "      <th>0</th>\n",
       "      <td>221.980</td>\n",
       "    </tr>\n",
       "    <tr>\n",
       "      <th>2</th>\n",
       "      <td>5175.171</td>\n",
       "    </tr>\n",
       "    <tr>\n",
       "      <th>3</th>\n",
       "      <td>2892.510</td>\n",
       "    </tr>\n",
       "    <tr>\n",
       "      <th>5</th>\n",
       "      <td>2862.675</td>\n",
       "    </tr>\n",
       "    <tr>\n",
       "      <th>12</th>\n",
       "      <td>2616.960</td>\n",
       "    </tr>\n",
       "    <tr>\n",
       "      <th>...</th>\n",
       "      <td>...</td>\n",
       "    </tr>\n",
       "    <tr>\n",
       "      <th>51200</th>\n",
       "      <td>1363.960</td>\n",
       "    </tr>\n",
       "    <tr>\n",
       "      <th>51216</th>\n",
       "      <td>84.784</td>\n",
       "    </tr>\n",
       "    <tr>\n",
       "      <th>51261</th>\n",
       "      <td>823.960</td>\n",
       "    </tr>\n",
       "    <tr>\n",
       "      <th>51262</th>\n",
       "      <td>213.480</td>\n",
       "    </tr>\n",
       "    <tr>\n",
       "      <th>51265</th>\n",
       "      <td>259.960</td>\n",
       "    </tr>\n",
       "  </tbody>\n",
       "</table>\n",
       "<p>3357 rows × 1 columns</p>\n",
       "</div>"
      ],
      "text/plain": [
       "          Sales\n",
       "0       221.980\n",
       "2      5175.171\n",
       "3      2892.510\n",
       "5      2862.675\n",
       "12     2616.960\n",
       "...         ...\n",
       "51200  1363.960\n",
       "51216    84.784\n",
       "51261   823.960\n",
       "51262   213.480\n",
       "51265   259.960\n",
       "\n",
       "[3357 rows x 1 columns]"
      ]
     },
     "execution_count": 36,
     "metadata": {},
     "output_type": "execute_result"
    }
   ],
   "source": [
    "sales_of_phones=pd.DataFrame(za.dropna())\n",
    "sales_of_phones"
   ]
  },
  {
   "cell_type": "code",
   "execution_count": 37,
   "id": "0210686e",
   "metadata": {},
   "outputs": [
    {
     "data": {
      "text/plain": [
       "1706824.1392"
      ]
     },
     "execution_count": 37,
     "metadata": {},
     "output_type": "execute_result"
    }
   ],
   "source": [
    "sales_of_phones['Sales'].sum()\n"
   ]
  },
  {
   "cell_type": "code",
   "execution_count": 38,
   "id": "bcb8f866",
   "metadata": {},
   "outputs": [
    {
     "data": {
      "text/plain": [
       "1706824.1392"
      ]
     },
     "execution_count": 38,
     "metadata": {},
     "output_type": "execute_result"
    }
   ],
   "source": [
    "Sales_of_phones=sales_of_phones['Sales'].sum()\n",
    "Sales_of_phones"
   ]
  },
  {
   "cell_type": "code",
   "execution_count": 39,
   "id": "8088cb6d",
   "metadata": {},
   "outputs": [],
   "source": [
    "sales_of_machines=df['Sales'].where(df['Sub-Category']=='Machines',other=np.nan)"
   ]
  },
  {
   "cell_type": "code",
   "execution_count": 40,
   "id": "dea1239f",
   "metadata": {},
   "outputs": [],
   "source": [
    "Sofmachine=sales_of_machines.dropna()"
   ]
  },
  {
   "cell_type": "code",
   "execution_count": 41,
   "id": "2f4f90cd",
   "metadata": {},
   "outputs": [],
   "source": [
    "Sofmachine=pd.DataFrame(Sofmachine)"
   ]
  },
  {
   "cell_type": "code",
   "execution_count": 42,
   "id": "ed9a490d",
   "metadata": {},
   "outputs": [
    {
     "data": {
      "text/html": [
       "<div>\n",
       "<style scoped>\n",
       "    .dataframe tbody tr th:only-of-type {\n",
       "        vertical-align: middle;\n",
       "    }\n",
       "\n",
       "    .dataframe tbody tr th {\n",
       "        vertical-align: top;\n",
       "    }\n",
       "\n",
       "    .dataframe thead th {\n",
       "        text-align: right;\n",
       "    }\n",
       "</style>\n",
       "<table border=\"1\" class=\"dataframe\">\n",
       "  <thead>\n",
       "    <tr style=\"text-align: right;\">\n",
       "      <th></th>\n",
       "      <th>Sales</th>\n",
       "    </tr>\n",
       "  </thead>\n",
       "  <tbody>\n",
       "    <tr>\n",
       "      <th>31</th>\n",
       "      <td>2402.865</td>\n",
       "    </tr>\n",
       "    <tr>\n",
       "      <th>48</th>\n",
       "      <td>2174.130</td>\n",
       "    </tr>\n",
       "    <tr>\n",
       "      <th>65</th>\n",
       "      <td>695.700</td>\n",
       "    </tr>\n",
       "    <tr>\n",
       "      <th>76</th>\n",
       "      <td>1439.982</td>\n",
       "    </tr>\n",
       "    <tr>\n",
       "      <th>98</th>\n",
       "      <td>2016.846</td>\n",
       "    </tr>\n",
       "    <tr>\n",
       "      <th>...</th>\n",
       "      <td>...</td>\n",
       "    </tr>\n",
       "    <tr>\n",
       "      <th>50735</th>\n",
       "      <td>155.358</td>\n",
       "    </tr>\n",
       "    <tr>\n",
       "      <th>50805</th>\n",
       "      <td>1188.000</td>\n",
       "    </tr>\n",
       "    <tr>\n",
       "      <th>50858</th>\n",
       "      <td>16.218</td>\n",
       "    </tr>\n",
       "    <tr>\n",
       "      <th>50881</th>\n",
       "      <td>80.970</td>\n",
       "    </tr>\n",
       "    <tr>\n",
       "      <th>50948</th>\n",
       "      <td>447.968</td>\n",
       "    </tr>\n",
       "  </tbody>\n",
       "</table>\n",
       "<p>1486 rows × 1 columns</p>\n",
       "</div>"
      ],
      "text/plain": [
       "          Sales\n",
       "31     2402.865\n",
       "48     2174.130\n",
       "65      695.700\n",
       "76     1439.982\n",
       "98     2016.846\n",
       "...         ...\n",
       "50735   155.358\n",
       "50805  1188.000\n",
       "50858    16.218\n",
       "50881    80.970\n",
       "50948   447.968\n",
       "\n",
       "[1486 rows x 1 columns]"
      ]
     },
     "execution_count": 42,
     "metadata": {},
     "output_type": "execute_result"
    }
   ],
   "source": [
    "Sofmachine"
   ]
  },
  {
   "cell_type": "code",
   "execution_count": 43,
   "id": "991a1fca",
   "metadata": {},
   "outputs": [],
   "source": [
    "Sales_of_Machines=(Sofmachine['Sales'].sum())"
   ]
  },
  {
   "cell_type": "code",
   "execution_count": 44,
   "id": "be3ead90",
   "metadata": {},
   "outputs": [
    {
     "data": {
      "text/plain": [
       "779060.0671000001"
      ]
     },
     "execution_count": 44,
     "metadata": {},
     "output_type": "execute_result"
    }
   ],
   "source": [
    "Sales_of_Machines"
   ]
  },
  {
   "cell_type": "code",
   "execution_count": 45,
   "id": "6996cb4f",
   "metadata": {},
   "outputs": [],
   "source": [
    "df_sum =Sofmachine.add(sales_of_phones)"
   ]
  },
  {
   "cell_type": "code",
   "execution_count": 46,
   "id": "7c3f17c4",
   "metadata": {},
   "outputs": [
    {
     "data": {
      "text/html": [
       "<div>\n",
       "<style scoped>\n",
       "    .dataframe tbody tr th:only-of-type {\n",
       "        vertical-align: middle;\n",
       "    }\n",
       "\n",
       "    .dataframe tbody tr th {\n",
       "        vertical-align: top;\n",
       "    }\n",
       "\n",
       "    .dataframe thead th {\n",
       "        text-align: right;\n",
       "    }\n",
       "</style>\n",
       "<table border=\"1\" class=\"dataframe\">\n",
       "  <thead>\n",
       "    <tr style=\"text-align: right;\">\n",
       "      <th></th>\n",
       "      <th>Sales</th>\n",
       "    </tr>\n",
       "  </thead>\n",
       "  <tbody>\n",
       "    <tr>\n",
       "      <th>0</th>\n",
       "      <td>NaN</td>\n",
       "    </tr>\n",
       "    <tr>\n",
       "      <th>2</th>\n",
       "      <td>NaN</td>\n",
       "    </tr>\n",
       "    <tr>\n",
       "      <th>3</th>\n",
       "      <td>NaN</td>\n",
       "    </tr>\n",
       "    <tr>\n",
       "      <th>5</th>\n",
       "      <td>NaN</td>\n",
       "    </tr>\n",
       "    <tr>\n",
       "      <th>12</th>\n",
       "      <td>NaN</td>\n",
       "    </tr>\n",
       "    <tr>\n",
       "      <th>...</th>\n",
       "      <td>...</td>\n",
       "    </tr>\n",
       "    <tr>\n",
       "      <th>51200</th>\n",
       "      <td>NaN</td>\n",
       "    </tr>\n",
       "    <tr>\n",
       "      <th>51216</th>\n",
       "      <td>NaN</td>\n",
       "    </tr>\n",
       "    <tr>\n",
       "      <th>51261</th>\n",
       "      <td>NaN</td>\n",
       "    </tr>\n",
       "    <tr>\n",
       "      <th>51262</th>\n",
       "      <td>NaN</td>\n",
       "    </tr>\n",
       "    <tr>\n",
       "      <th>51265</th>\n",
       "      <td>NaN</td>\n",
       "    </tr>\n",
       "  </tbody>\n",
       "</table>\n",
       "<p>4843 rows × 1 columns</p>\n",
       "</div>"
      ],
      "text/plain": [
       "       Sales\n",
       "0        NaN\n",
       "2        NaN\n",
       "3        NaN\n",
       "5        NaN\n",
       "12       NaN\n",
       "...      ...\n",
       "51200    NaN\n",
       "51216    NaN\n",
       "51261    NaN\n",
       "51262    NaN\n",
       "51265    NaN\n",
       "\n",
       "[4843 rows x 1 columns]"
      ]
     },
     "execution_count": 46,
     "metadata": {},
     "output_type": "execute_result"
    }
   ],
   "source": [
    "df_sum"
   ]
  },
  {
   "cell_type": "code",
   "execution_count": 152,
   "id": "c36e9d8f",
   "metadata": {},
   "outputs": [
    {
     "data": {
      "text/html": [
       "<div>\n",
       "<style scoped>\n",
       "    .dataframe tbody tr th:only-of-type {\n",
       "        vertical-align: middle;\n",
       "    }\n",
       "\n",
       "    .dataframe tbody tr th {\n",
       "        vertical-align: top;\n",
       "    }\n",
       "\n",
       "    .dataframe thead th {\n",
       "        text-align: right;\n",
       "    }\n",
       "</style>\n",
       "<table border=\"1\" class=\"dataframe\">\n",
       "  <thead>\n",
       "    <tr style=\"text-align: right;\">\n",
       "      <th></th>\n",
       "      <th>Segment</th>\n",
       "    </tr>\n",
       "  </thead>\n",
       "  <tbody>\n",
       "    <tr>\n",
       "      <th>Consumer</th>\n",
       "      <td>26518</td>\n",
       "    </tr>\n",
       "    <tr>\n",
       "      <th>Corporate</th>\n",
       "      <td>15429</td>\n",
       "    </tr>\n",
       "    <tr>\n",
       "      <th>Home Office</th>\n",
       "      <td>9343</td>\n",
       "    </tr>\n",
       "  </tbody>\n",
       "</table>\n",
       "</div>"
      ],
      "text/plain": [
       "             Segment\n",
       "Consumer       26518\n",
       "Corporate      15429\n",
       "Home Office     9343"
      ]
     },
     "execution_count": 152,
     "metadata": {},
     "output_type": "execute_result"
    }
   ],
   "source": [
    "wese=df['Segment'].value_counts()\n",
    "wese=pd.DataFrame(wese)\n",
    "wese"
   ]
  },
  {
   "cell_type": "code",
   "execution_count": 155,
   "id": "cf357923",
   "metadata": {},
   "outputs": [
    {
     "ename": "KeyError",
     "evalue": "('Consumer', 'Corporate', 'Home Office')",
     "output_type": "error",
     "traceback": [
      "\u001b[1;31m---------------------------------------------------------------------------\u001b[0m",
      "\u001b[1;31mKeyError\u001b[0m                                  Traceback (most recent call last)",
      "File \u001b[1;32mD:\\anaconda\\lib\\site-packages\\pandas\\core\\indexes\\base.py:3802\u001b[0m, in \u001b[0;36mIndex.get_loc\u001b[1;34m(self, key, method, tolerance)\u001b[0m\n\u001b[0;32m   3801\u001b[0m \u001b[38;5;28;01mtry\u001b[39;00m:\n\u001b[1;32m-> 3802\u001b[0m     \u001b[38;5;28;01mreturn\u001b[39;00m \u001b[38;5;28;43mself\u001b[39;49m\u001b[38;5;241;43m.\u001b[39;49m\u001b[43m_engine\u001b[49m\u001b[38;5;241;43m.\u001b[39;49m\u001b[43mget_loc\u001b[49m\u001b[43m(\u001b[49m\u001b[43mcasted_key\u001b[49m\u001b[43m)\u001b[49m\n\u001b[0;32m   3803\u001b[0m \u001b[38;5;28;01mexcept\u001b[39;00m \u001b[38;5;167;01mKeyError\u001b[39;00m \u001b[38;5;28;01mas\u001b[39;00m err:\n",
      "File \u001b[1;32mD:\\anaconda\\lib\\site-packages\\pandas\\_libs\\index.pyx:138\u001b[0m, in \u001b[0;36mpandas._libs.index.IndexEngine.get_loc\u001b[1;34m()\u001b[0m\n",
      "File \u001b[1;32mD:\\anaconda\\lib\\site-packages\\pandas\\_libs\\index.pyx:165\u001b[0m, in \u001b[0;36mpandas._libs.index.IndexEngine.get_loc\u001b[1;34m()\u001b[0m\n",
      "File \u001b[1;32mpandas\\_libs\\hashtable_class_helper.pxi:5745\u001b[0m, in \u001b[0;36mpandas._libs.hashtable.PyObjectHashTable.get_item\u001b[1;34m()\u001b[0m\n",
      "File \u001b[1;32mpandas\\_libs\\hashtable_class_helper.pxi:5753\u001b[0m, in \u001b[0;36mpandas._libs.hashtable.PyObjectHashTable.get_item\u001b[1;34m()\u001b[0m\n",
      "\u001b[1;31mKeyError\u001b[0m: ('Consumer', 'Corporate', 'Home Office')",
      "\nThe above exception was the direct cause of the following exception:\n",
      "\u001b[1;31mKeyError\u001b[0m                                  Traceback (most recent call last)",
      "Cell \u001b[1;32mIn[155], line 1\u001b[0m\n\u001b[1;32m----> 1\u001b[0m sns\u001b[38;5;241m.\u001b[39mcountplot(x\u001b[38;5;241m=\u001b[39m\u001b[43mwese\u001b[49m\u001b[43m[\u001b[49m\u001b[38;5;124;43m'\u001b[39;49m\u001b[38;5;124;43mConsumer\u001b[39;49m\u001b[38;5;124;43m'\u001b[39;49m\u001b[43m,\u001b[49m\u001b[38;5;124;43m'\u001b[39;49m\u001b[38;5;124;43mCorporate\u001b[39;49m\u001b[38;5;124;43m'\u001b[39;49m\u001b[43m,\u001b[49m\u001b[38;5;124;43m'\u001b[39;49m\u001b[38;5;124;43mHome Office\u001b[39;49m\u001b[38;5;124;43m'\u001b[39;49m\u001b[43m]\u001b[49m)\n",
      "File \u001b[1;32mD:\\anaconda\\lib\\site-packages\\pandas\\core\\frame.py:3807\u001b[0m, in \u001b[0;36mDataFrame.__getitem__\u001b[1;34m(self, key)\u001b[0m\n\u001b[0;32m   3805\u001b[0m \u001b[38;5;28;01mif\u001b[39;00m \u001b[38;5;28mself\u001b[39m\u001b[38;5;241m.\u001b[39mcolumns\u001b[38;5;241m.\u001b[39mnlevels \u001b[38;5;241m>\u001b[39m \u001b[38;5;241m1\u001b[39m:\n\u001b[0;32m   3806\u001b[0m     \u001b[38;5;28;01mreturn\u001b[39;00m \u001b[38;5;28mself\u001b[39m\u001b[38;5;241m.\u001b[39m_getitem_multilevel(key)\n\u001b[1;32m-> 3807\u001b[0m indexer \u001b[38;5;241m=\u001b[39m \u001b[38;5;28;43mself\u001b[39;49m\u001b[38;5;241;43m.\u001b[39;49m\u001b[43mcolumns\u001b[49m\u001b[38;5;241;43m.\u001b[39;49m\u001b[43mget_loc\u001b[49m\u001b[43m(\u001b[49m\u001b[43mkey\u001b[49m\u001b[43m)\u001b[49m\n\u001b[0;32m   3808\u001b[0m \u001b[38;5;28;01mif\u001b[39;00m is_integer(indexer):\n\u001b[0;32m   3809\u001b[0m     indexer \u001b[38;5;241m=\u001b[39m [indexer]\n",
      "File \u001b[1;32mD:\\anaconda\\lib\\site-packages\\pandas\\core\\indexes\\base.py:3804\u001b[0m, in \u001b[0;36mIndex.get_loc\u001b[1;34m(self, key, method, tolerance)\u001b[0m\n\u001b[0;32m   3802\u001b[0m     \u001b[38;5;28;01mreturn\u001b[39;00m \u001b[38;5;28mself\u001b[39m\u001b[38;5;241m.\u001b[39m_engine\u001b[38;5;241m.\u001b[39mget_loc(casted_key)\n\u001b[0;32m   3803\u001b[0m \u001b[38;5;28;01mexcept\u001b[39;00m \u001b[38;5;167;01mKeyError\u001b[39;00m \u001b[38;5;28;01mas\u001b[39;00m err:\n\u001b[1;32m-> 3804\u001b[0m     \u001b[38;5;28;01mraise\u001b[39;00m \u001b[38;5;167;01mKeyError\u001b[39;00m(key) \u001b[38;5;28;01mfrom\u001b[39;00m \u001b[38;5;21;01merr\u001b[39;00m\n\u001b[0;32m   3805\u001b[0m \u001b[38;5;28;01mexcept\u001b[39;00m \u001b[38;5;167;01mTypeError\u001b[39;00m:\n\u001b[0;32m   3806\u001b[0m     \u001b[38;5;66;03m# If we have a listlike key, _check_indexing_error will raise\u001b[39;00m\n\u001b[0;32m   3807\u001b[0m     \u001b[38;5;66;03m#  InvalidIndexError. Otherwise we fall through and re-raise\u001b[39;00m\n\u001b[0;32m   3808\u001b[0m     \u001b[38;5;66;03m#  the TypeError.\u001b[39;00m\n\u001b[0;32m   3809\u001b[0m     \u001b[38;5;28mself\u001b[39m\u001b[38;5;241m.\u001b[39m_check_indexing_error(key)\n",
      "\u001b[1;31mKeyError\u001b[0m: ('Consumer', 'Corporate', 'Home Office')"
     ]
    }
   ],
   "source": [
    "sns.countplot(x=wese['Consumer','Corporate','Home Office'])"
   ]
  },
  {
   "cell_type": "code",
   "execution_count": 48,
   "id": "8c4899e1",
   "metadata": {},
   "outputs": [],
   "source": [
    "saleofConsumer=df['Sales'].where(df['Segment']=='Consumer' , other = 0)"
   ]
  },
  {
   "cell_type": "code",
   "execution_count": 49,
   "id": "c0d27e95",
   "metadata": {},
   "outputs": [
    {
     "data": {
      "text/plain": [
       "6507949.41786"
      ]
     },
     "execution_count": 49,
     "metadata": {},
     "output_type": "execute_result"
    }
   ],
   "source": [
    "saleofConsumer.sum()"
   ]
  },
  {
   "cell_type": "code",
   "execution_count": 50,
   "id": "8fedd988",
   "metadata": {},
   "outputs": [],
   "source": [
    "saleofCorporate=df['Sales'].where(df['Segment']=='Corporate' , other = 0)\n"
   ]
  },
  {
   "cell_type": "code",
   "execution_count": 51,
   "id": "eda64fcd",
   "metadata": {},
   "outputs": [
    {
     "data": {
      "text/plain": [
       "3824697.52146"
      ]
     },
     "execution_count": 51,
     "metadata": {},
     "output_type": "execute_result"
    }
   ],
   "source": [
    "saleofCorporate.sum()"
   ]
  },
  {
   "cell_type": "code",
   "execution_count": 52,
   "id": "5fa0339b",
   "metadata": {},
   "outputs": [],
   "source": [
    "saleofHomeOffice=df['Sales'].where(df['Segment']=='Home Office' , other = 0)"
   ]
  },
  {
   "cell_type": "code",
   "execution_count": 53,
   "id": "d6d52d48",
   "metadata": {},
   "outputs": [
    {
     "data": {
      "text/plain": [
       "2309854.97056"
      ]
     },
     "execution_count": 53,
     "metadata": {},
     "output_type": "execute_result"
    }
   ],
   "source": [
    "saleofHomeOffice.sum()"
   ]
  },
  {
   "cell_type": "code",
   "execution_count": 54,
   "id": "877e23ea",
   "metadata": {},
   "outputs": [
    {
     "data": {
      "text/plain": [
       "<Axes: xlabel='Ship Mode', ylabel='count'>"
      ]
     },
     "execution_count": 54,
     "metadata": {},
     "output_type": "execute_result"
    },
    {
     "data": {
      "image/png": "[encoded data removed]",
      "text/plain": [
       "<Figure size 640x480 with 1 Axes>"
      ]
     },
     "metadata": {},
     "output_type": "display_data"
    }
   ],
   "source": [
    "sns.countplot(x=df['Ship Mode'])"
   ]
  },
  {
   "cell_type": "code",
   "execution_count": 55,
   "id": "d8a6575b",
   "metadata": {},
   "outputs": [
    {
     "data": {
      "text/plain": [
       "<Axes: ylabel='Segment'>"
      ]
     },
     "execution_count": 55,
     "metadata": {},
     "output_type": "execute_result"
    },
    {
     "data": {
      "image/png": "[encoded data removed]",
      "text/plain": [
       "<Figure size 640x480 with 1 Axes>"
      ]
     },
     "metadata": {},
     "output_type": "display_data"
    }
   ],
   "source": [
    "df['Segment'].value_counts().plot(kind='pie',autopct=\"%.2f\")"
   ]
  },
  {
   "cell_type": "code",
   "execution_count": 56,
   "id": "afa66371",
   "metadata": {},
   "outputs": [],
   "source": [
    "df['delivery_days']=df['Order Date']-df['Ship Date']"
   ]
  },
  {
   "cell_type": "code",
   "execution_count": 57,
   "id": "f64ba211",
   "metadata": {},
   "outputs": [
    {
     "data": {
      "text/plain": [
       "0       -2 days\n",
       "1       -2 days\n",
       "2       -1 days\n",
       "3       -2 days\n",
       "4       -1 days\n",
       "          ...  \n",
       "51285    0 days\n",
       "51286   -4 days\n",
       "51287   -5 days\n",
       "51288   -4 days\n",
       "51289   -4 days\n",
       "Name: delivery_days, Length: 51290, dtype: timedelta64[ns]"
      ]
     },
     "execution_count": 57,
     "metadata": {},
     "output_type": "execute_result"
    }
   ],
   "source": [
    "df['delivery_days']"
   ]
  },
  {
   "cell_type": "code",
   "execution_count": 132,
   "id": "e6900e82",
   "metadata": {},
   "outputs": [],
   "source": [
    "new_delivery_days=df['delivery_days']*(-1)"
   ]
  },
  {
   "cell_type": "code",
   "execution_count": 133,
   "id": "a95b2eb2",
   "metadata": {},
   "outputs": [
    {
     "data": {
      "text/html": [
       "<div>\n",
       "<style scoped>\n",
       "    .dataframe tbody tr th:only-of-type {\n",
       "        vertical-align: middle;\n",
       "    }\n",
       "\n",
       "    .dataframe tbody tr th {\n",
       "        vertical-align: top;\n",
       "    }\n",
       "\n",
       "    .dataframe thead th {\n",
       "        text-align: right;\n",
       "    }\n",
       "</style>\n",
       "<table border=\"1\" class=\"dataframe\">\n",
       "  <thead>\n",
       "    <tr style=\"text-align: right;\">\n",
       "      <th></th>\n",
       "      <th>delivery_days</th>\n",
       "    </tr>\n",
       "  </thead>\n",
       "  <tbody>\n",
       "    <tr>\n",
       "      <th>0</th>\n",
       "      <td>2 days</td>\n",
       "    </tr>\n",
       "    <tr>\n",
       "      <th>1</th>\n",
       "      <td>2 days</td>\n",
       "    </tr>\n",
       "    <tr>\n",
       "      <th>2</th>\n",
       "      <td>1 days</td>\n",
       "    </tr>\n",
       "    <tr>\n",
       "      <th>3</th>\n",
       "      <td>2 days</td>\n",
       "    </tr>\n",
       "    <tr>\n",
       "      <th>4</th>\n",
       "      <td>1 days</td>\n",
       "    </tr>\n",
       "    <tr>\n",
       "      <th>...</th>\n",
       "      <td>...</td>\n",
       "    </tr>\n",
       "    <tr>\n",
       "      <th>51285</th>\n",
       "      <td>0 days</td>\n",
       "    </tr>\n",
       "    <tr>\n",
       "      <th>51286</th>\n",
       "      <td>4 days</td>\n",
       "    </tr>\n",
       "    <tr>\n",
       "      <th>51287</th>\n",
       "      <td>5 days</td>\n",
       "    </tr>\n",
       "    <tr>\n",
       "      <th>51288</th>\n",
       "      <td>4 days</td>\n",
       "    </tr>\n",
       "    <tr>\n",
       "      <th>51289</th>\n",
       "      <td>4 days</td>\n",
       "    </tr>\n",
       "  </tbody>\n",
       "</table>\n",
       "<p>51290 rows × 1 columns</p>\n",
       "</div>"
      ],
      "text/plain": [
       "      delivery_days\n",
       "0            2 days\n",
       "1            2 days\n",
       "2            1 days\n",
       "3            2 days\n",
       "4            1 days\n",
       "...             ...\n",
       "51285        0 days\n",
       "51286        4 days\n",
       "51287        5 days\n",
       "51288        4 days\n",
       "51289        4 days\n",
       "\n",
       "[51290 rows x 1 columns]"
      ]
     },
     "execution_count": 133,
     "metadata": {},
     "output_type": "execute_result"
    }
   ],
   "source": [
    "new_delivery_days=pd.DataFrame(new_delivery_days)\n",
    "new_delivery_days"
   ]
  },
  {
   "cell_type": "code",
   "execution_count": 137,
   "id": "c59ad7c7",
   "metadata": {},
   "outputs": [],
   "source": [
    "new_delivery_days[\"delivery_days\"]=new_delivery_days[\"delivery_days\"].astype(str)"
   ]
  },
  {
   "cell_type": "code",
   "execution_count": 138,
   "id": "8da7f0a9",
   "metadata": {},
   "outputs": [
    {
     "name": "stdout",
     "output_type": "stream",
     "text": [
      "<class 'pandas.core.frame.DataFrame'>\n",
      "RangeIndex: 51290 entries, 0 to 51289\n",
      "Data columns (total 1 columns):\n",
      " #   Column         Non-Null Count  Dtype \n",
      "---  ------         --------------  ----- \n",
      " 0   delivery_days  51290 non-null  object\n",
      "dtypes: object(1)\n",
      "memory usage: 400.8+ KB\n"
     ]
    }
   ],
   "source": [
    "new_delivery_days.info()"
   ]
  },
  {
   "cell_type": "code",
   "execution_count": 148,
   "id": "2961fb38",
   "metadata": {},
   "outputs": [],
   "source": [
    "new_delivery_days[\"date\"]=new_delivery_days[\"delivery_days\"].str.split(\" \",expand=True)[0]\n",
    "new_delivery_days[\"days\"]=new_delivery_days[\"delivery_days\"].str.split(\" \",expand=True)[1]"
   ]
  },
  {
   "cell_type": "code",
   "execution_count": 151,
   "id": "e997528a",
   "metadata": {},
   "outputs": [
    {
     "data": {
      "text/html": [
       "<div>\n",
       "<style scoped>\n",
       "    .dataframe tbody tr th:only-of-type {\n",
       "        vertical-align: middle;\n",
       "    }\n",
       "\n",
       "    .dataframe tbody tr th {\n",
       "        vertical-align: top;\n",
       "    }\n",
       "\n",
       "    .dataframe thead th {\n",
       "        text-align: right;\n",
       "    }\n",
       "</style>\n",
       "<table border=\"1\" class=\"dataframe\">\n",
       "  <thead>\n",
       "    <tr style=\"text-align: right;\">\n",
       "      <th></th>\n",
       "      <th>0</th>\n",
       "      <th>1</th>\n",
       "    </tr>\n",
       "  </thead>\n",
       "  <tbody>\n",
       "    <tr>\n",
       "      <th>0</th>\n",
       "      <td>2</td>\n",
       "      <td>days</td>\n",
       "    </tr>\n",
       "    <tr>\n",
       "      <th>1</th>\n",
       "      <td>2</td>\n",
       "      <td>days</td>\n",
       "    </tr>\n",
       "    <tr>\n",
       "      <th>2</th>\n",
       "      <td>1</td>\n",
       "      <td>days</td>\n",
       "    </tr>\n",
       "    <tr>\n",
       "      <th>3</th>\n",
       "      <td>2</td>\n",
       "      <td>days</td>\n",
       "    </tr>\n",
       "    <tr>\n",
       "      <th>4</th>\n",
       "      <td>1</td>\n",
       "      <td>days</td>\n",
       "    </tr>\n",
       "    <tr>\n",
       "      <th>...</th>\n",
       "      <td>...</td>\n",
       "      <td>...</td>\n",
       "    </tr>\n",
       "    <tr>\n",
       "      <th>51285</th>\n",
       "      <td>0</td>\n",
       "      <td>days</td>\n",
       "    </tr>\n",
       "    <tr>\n",
       "      <th>51286</th>\n",
       "      <td>4</td>\n",
       "      <td>days</td>\n",
       "    </tr>\n",
       "    <tr>\n",
       "      <th>51287</th>\n",
       "      <td>5</td>\n",
       "      <td>days</td>\n",
       "    </tr>\n",
       "    <tr>\n",
       "      <th>51288</th>\n",
       "      <td>4</td>\n",
       "      <td>days</td>\n",
       "    </tr>\n",
       "    <tr>\n",
       "      <th>51289</th>\n",
       "      <td>4</td>\n",
       "      <td>days</td>\n",
       "    </tr>\n",
       "  </tbody>\n",
       "</table>\n",
       "<p>51290 rows × 2 columns</p>\n",
       "</div>"
      ],
      "text/plain": [
       "       0     1\n",
       "0      2  days\n",
       "1      2  days\n",
       "2      1  days\n",
       "3      2  days\n",
       "4      1  days\n",
       "...   ..   ...\n",
       "51285  0  days\n",
       "51286  4  days\n",
       "51287  5  days\n",
       "51288  4  days\n",
       "51289  4  days\n",
       "\n",
       "[51290 rows x 2 columns]"
      ]
     },
     "execution_count": 151,
     "metadata": {},
     "output_type": "execute_result"
    }
   ],
   "source": [
    "new_delivery_days[\"delivery_days\"].str.split(\" \",expand=True)\n"
   ]
  },
  {
   "cell_type": "code",
   "execution_count": null,
   "id": "26c41af6",
   "metadata": {},
   "outputs": [],
   "source": []
  },
  {
   "cell_type": "code",
   "execution_count": null,
   "id": "2e1dcd28",
   "metadata": {},
   "outputs": [],
   "source": []
  },
  {
   "cell_type": "code",
   "execution_count": null,
   "id": "503e47e3",
   "metadata": {},
   "outputs": [],
   "source": []
  },
  {
   "cell_type": "code",
   "execution_count": 72,
   "id": "671c9674",
   "metadata": {},
   "outputs": [],
   "source": [
    "new_delivery_days['delivery_days']=pd.to_numeric(new_delivery_days['delivery_days'])"
   ]
  },
  {
   "cell_type": "code",
   "execution_count": 73,
   "id": "47d4d41a",
   "metadata": {},
   "outputs": [
    {
     "ename": "AttributeError",
     "evalue": "Can only use .str accessor with string values!",
     "output_type": "error",
     "traceback": [
      "\u001b[1;31m---------------------------------------------------------------------------\u001b[0m",
      "\u001b[1;31mAttributeError\u001b[0m                            Traceback (most recent call last)",
      "Cell \u001b[1;32mIn[73], line 1\u001b[0m\n\u001b[1;32m----> 1\u001b[0m new_delivery_days[\u001b[38;5;124m'\u001b[39m\u001b[38;5;124mdelivery_days\u001b[39m\u001b[38;5;124m'\u001b[39m]\u001b[38;5;241m=\u001b[39m\u001b[43mnew_delivery_days\u001b[49m\u001b[43m[\u001b[49m\u001b[38;5;124;43m'\u001b[39;49m\u001b[38;5;124;43mdelivery_days\u001b[39;49m\u001b[38;5;124;43m'\u001b[39;49m\u001b[43m]\u001b[49m\u001b[38;5;241;43m.\u001b[39;49m\u001b[43mstr\u001b[49m\u001b[38;5;241m.\u001b[39mreplace(\u001b[38;5;124m'\u001b[39m\u001b[38;5;124mdays\u001b[39m\u001b[38;5;124m'\u001b[39m,\u001b[38;5;124m'\u001b[39m\u001b[38;5;124m'\u001b[39m)\n",
      "File \u001b[1;32mD:\\anaconda\\lib\\site-packages\\pandas\\core\\generic.py:5902\u001b[0m, in \u001b[0;36mNDFrame.__getattr__\u001b[1;34m(self, name)\u001b[0m\n\u001b[0;32m   5895\u001b[0m \u001b[38;5;28;01mif\u001b[39;00m (\n\u001b[0;32m   5896\u001b[0m     name \u001b[38;5;129;01mnot\u001b[39;00m \u001b[38;5;129;01min\u001b[39;00m \u001b[38;5;28mself\u001b[39m\u001b[38;5;241m.\u001b[39m_internal_names_set\n\u001b[0;32m   5897\u001b[0m     \u001b[38;5;129;01mand\u001b[39;00m name \u001b[38;5;129;01mnot\u001b[39;00m \u001b[38;5;129;01min\u001b[39;00m \u001b[38;5;28mself\u001b[39m\u001b[38;5;241m.\u001b[39m_metadata\n\u001b[0;32m   5898\u001b[0m     \u001b[38;5;129;01mand\u001b[39;00m name \u001b[38;5;129;01mnot\u001b[39;00m \u001b[38;5;129;01min\u001b[39;00m \u001b[38;5;28mself\u001b[39m\u001b[38;5;241m.\u001b[39m_accessors\n\u001b[0;32m   5899\u001b[0m     \u001b[38;5;129;01mand\u001b[39;00m \u001b[38;5;28mself\u001b[39m\u001b[38;5;241m.\u001b[39m_info_axis\u001b[38;5;241m.\u001b[39m_can_hold_identifiers_and_holds_name(name)\n\u001b[0;32m   5900\u001b[0m ):\n\u001b[0;32m   5901\u001b[0m     \u001b[38;5;28;01mreturn\u001b[39;00m \u001b[38;5;28mself\u001b[39m[name]\n\u001b[1;32m-> 5902\u001b[0m \u001b[38;5;28;01mreturn\u001b[39;00m \u001b[38;5;28;43mobject\u001b[39;49m\u001b[38;5;241;43m.\u001b[39;49m\u001b[38;5;21;43m__getattribute__\u001b[39;49m\u001b[43m(\u001b[49m\u001b[38;5;28;43mself\u001b[39;49m\u001b[43m,\u001b[49m\u001b[43m \u001b[49m\u001b[43mname\u001b[49m\u001b[43m)\u001b[49m\n",
      "File \u001b[1;32mD:\\anaconda\\lib\\site-packages\\pandas\\core\\accessor.py:182\u001b[0m, in \u001b[0;36mCachedAccessor.__get__\u001b[1;34m(self, obj, cls)\u001b[0m\n\u001b[0;32m    179\u001b[0m \u001b[38;5;28;01mif\u001b[39;00m obj \u001b[38;5;129;01mis\u001b[39;00m \u001b[38;5;28;01mNone\u001b[39;00m:\n\u001b[0;32m    180\u001b[0m     \u001b[38;5;66;03m# we're accessing the attribute of the class, i.e., Dataset.geo\u001b[39;00m\n\u001b[0;32m    181\u001b[0m     \u001b[38;5;28;01mreturn\u001b[39;00m \u001b[38;5;28mself\u001b[39m\u001b[38;5;241m.\u001b[39m_accessor\n\u001b[1;32m--> 182\u001b[0m accessor_obj \u001b[38;5;241m=\u001b[39m \u001b[38;5;28;43mself\u001b[39;49m\u001b[38;5;241;43m.\u001b[39;49m\u001b[43m_accessor\u001b[49m\u001b[43m(\u001b[49m\u001b[43mobj\u001b[49m\u001b[43m)\u001b[49m\n\u001b[0;32m    183\u001b[0m \u001b[38;5;66;03m# Replace the property with the accessor object. Inspired by:\u001b[39;00m\n\u001b[0;32m    184\u001b[0m \u001b[38;5;66;03m# https://www.pydanny.com/cached-property.html\u001b[39;00m\n\u001b[0;32m    185\u001b[0m \u001b[38;5;66;03m# We need to use object.__setattr__ because we overwrite __setattr__ on\u001b[39;00m\n\u001b[0;32m    186\u001b[0m \u001b[38;5;66;03m# NDFrame\u001b[39;00m\n\u001b[0;32m    187\u001b[0m \u001b[38;5;28mobject\u001b[39m\u001b[38;5;241m.\u001b[39m\u001b[38;5;21m__setattr__\u001b[39m(obj, \u001b[38;5;28mself\u001b[39m\u001b[38;5;241m.\u001b[39m_name, accessor_obj)\n",
      "File \u001b[1;32mD:\\anaconda\\lib\\site-packages\\pandas\\core\\strings\\accessor.py:181\u001b[0m, in \u001b[0;36mStringMethods.__init__\u001b[1;34m(self, data)\u001b[0m\n\u001b[0;32m    178\u001b[0m \u001b[38;5;28;01mdef\u001b[39;00m \u001b[38;5;21m__init__\u001b[39m(\u001b[38;5;28mself\u001b[39m, data) \u001b[38;5;241m-\u001b[39m\u001b[38;5;241m>\u001b[39m \u001b[38;5;28;01mNone\u001b[39;00m:\n\u001b[0;32m    179\u001b[0m     \u001b[38;5;28;01mfrom\u001b[39;00m \u001b[38;5;21;01mpandas\u001b[39;00m\u001b[38;5;21;01m.\u001b[39;00m\u001b[38;5;21;01mcore\u001b[39;00m\u001b[38;5;21;01m.\u001b[39;00m\u001b[38;5;21;01marrays\u001b[39;00m\u001b[38;5;21;01m.\u001b[39;00m\u001b[38;5;21;01mstring_\u001b[39;00m \u001b[38;5;28;01mimport\u001b[39;00m StringDtype\n\u001b[1;32m--> 181\u001b[0m     \u001b[38;5;28mself\u001b[39m\u001b[38;5;241m.\u001b[39m_inferred_dtype \u001b[38;5;241m=\u001b[39m \u001b[38;5;28;43mself\u001b[39;49m\u001b[38;5;241;43m.\u001b[39;49m\u001b[43m_validate\u001b[49m\u001b[43m(\u001b[49m\u001b[43mdata\u001b[49m\u001b[43m)\u001b[49m\n\u001b[0;32m    182\u001b[0m     \u001b[38;5;28mself\u001b[39m\u001b[38;5;241m.\u001b[39m_is_categorical \u001b[38;5;241m=\u001b[39m is_categorical_dtype(data\u001b[38;5;241m.\u001b[39mdtype)\n\u001b[0;32m    183\u001b[0m     \u001b[38;5;28mself\u001b[39m\u001b[38;5;241m.\u001b[39m_is_string \u001b[38;5;241m=\u001b[39m \u001b[38;5;28misinstance\u001b[39m(data\u001b[38;5;241m.\u001b[39mdtype, StringDtype)\n",
      "File \u001b[1;32mD:\\anaconda\\lib\\site-packages\\pandas\\core\\strings\\accessor.py:235\u001b[0m, in \u001b[0;36mStringMethods._validate\u001b[1;34m(data)\u001b[0m\n\u001b[0;32m    232\u001b[0m inferred_dtype \u001b[38;5;241m=\u001b[39m lib\u001b[38;5;241m.\u001b[39minfer_dtype(values, skipna\u001b[38;5;241m=\u001b[39m\u001b[38;5;28;01mTrue\u001b[39;00m)\n\u001b[0;32m    234\u001b[0m \u001b[38;5;28;01mif\u001b[39;00m inferred_dtype \u001b[38;5;129;01mnot\u001b[39;00m \u001b[38;5;129;01min\u001b[39;00m allowed_types:\n\u001b[1;32m--> 235\u001b[0m     \u001b[38;5;28;01mraise\u001b[39;00m \u001b[38;5;167;01mAttributeError\u001b[39;00m(\u001b[38;5;124m\"\u001b[39m\u001b[38;5;124mCan only use .str accessor with string values!\u001b[39m\u001b[38;5;124m\"\u001b[39m)\n\u001b[0;32m    236\u001b[0m \u001b[38;5;28;01mreturn\u001b[39;00m inferred_dtype\n",
      "\u001b[1;31mAttributeError\u001b[0m: Can only use .str accessor with string values!"
     ]
    }
   ],
   "source": [
    "new_delivery_days['delivery_days']=new_delivery_days['delivery_days'].str.replace('days','')\n",
    "# how to get avg sum"
   ]
  },
  {
   "cell_type": "code",
   "execution_count": 63,
   "id": "5af4fdc6",
   "metadata": {},
   "outputs": [
    {
     "data": {
      "text/plain": [
       "Muhammed Yedwab    108\n",
       "Steven Ward        106\n",
       "Bill Eplett        102\n",
       "Gary Hwang         102\n",
       "Patrick O'Brill    102\n",
       "Harry Greene       101\n",
       "Eric Murdock       100\n",
       "Art Ferguson        98\n",
       "Brosina Hoffman     97\n",
       "Bart Watters        96\n",
       "Name: Customer Name, dtype: int64"
      ]
     },
     "execution_count": 63,
     "metadata": {},
     "output_type": "execute_result"
    }
   ],
   "source": [
    "top_customers=df['Customer Name'].value_counts().head(10)\n",
    "top_customers"
   ]
  },
  {
   "cell_type": "code",
   "execution_count": 64,
   "id": "52f615ae",
   "metadata": {},
   "outputs": [
    {
     "data": {
      "text/plain": [
       "0       NaN\n",
       "1       NaN\n",
       "2       NaN\n",
       "3       NaN\n",
       "4       NaN\n",
       "         ..\n",
       "51285   NaN\n",
       "51286   NaN\n",
       "51287   NaN\n",
       "51288   NaN\n",
       "51289   NaN\n",
       "Name: Sales, Length: 51290, dtype: float64"
      ]
     },
     "execution_count": 64,
     "metadata": {},
     "output_type": "execute_result"
    }
   ],
   "source": [
    "df['Sales'].where(df['Customer Name']=='Muhammed Yedwab' , other = np.nan)"
   ]
  },
  {
   "cell_type": "code",
   "execution_count": 67,
   "id": "6283621e",
   "metadata": {},
   "outputs": [],
   "source": [
    "Sales_of_Muhammed_Yedwab=df['Sales'].where(df['Customer Name']=='Muhammed Yedwab' , other = np.nan).dropna().sum()"
   ]
  },
  {
   "cell_type": "code",
   "execution_count": 74,
   "id": "ecaeecc8",
   "metadata": {},
   "outputs": [
    {
     "data": {
      "text/plain": [
       "29642.661180000003"
      ]
     },
     "execution_count": 74,
     "metadata": {},
     "output_type": "execute_result"
    }
   ],
   "source": [
    "Sales_of_Muhammed_Yedwab\n",
    "# (1)"
   ]
  },
  {
   "cell_type": "code",
   "execution_count": 69,
   "id": "ef6eb14a",
   "metadata": {},
   "outputs": [
    {
     "data": {
      "text/plain": [
       "0       NaN\n",
       "1       NaN\n",
       "2       NaN\n",
       "3       NaN\n",
       "4       NaN\n",
       "         ..\n",
       "51285   NaN\n",
       "51286   NaN\n",
       "51287   NaN\n",
       "51288   NaN\n",
       "51289   NaN\n",
       "Name: Sales, Length: 51290, dtype: float64"
      ]
     },
     "execution_count": 69,
     "metadata": {},
     "output_type": "execute_result"
    }
   ],
   "source": [
    "df['Sales'].where(df['Customer Name']=='Steven Ward' , other = np.nan)"
   ]
  },
  {
   "cell_type": "code",
   "execution_count": 76,
   "id": "2ce75ee2",
   "metadata": {},
   "outputs": [],
   "source": [
    "Sales_of_Steven_Ward=df['Sales'].where(df['Customer Name']=='Steven Ward' , other = np.nan).dropna().sum()"
   ]
  },
  {
   "cell_type": "code",
   "execution_count": 75,
   "id": "bc074963",
   "metadata": {},
   "outputs": [
    {
     "data": {
      "text/plain": [
       "25668.486"
      ]
     },
     "execution_count": 75,
     "metadata": {},
     "output_type": "execute_result"
    }
   ],
   "source": [
    "Sales_of_Steven_Ward\n",
    "\n",
    "# (2)"
   ]
  },
  {
   "cell_type": "code",
   "execution_count": 77,
   "id": "eb4342e9",
   "metadata": {},
   "outputs": [],
   "source": [
    "Sales_of_Bill_Eplett=df['Sales'].where(df['Customer Name']=='Bill Eplett' , other = np.nan).dropna().sum()"
   ]
  },
  {
   "cell_type": "code",
   "execution_count": 78,
   "id": "6ebfc103",
   "metadata": {},
   "outputs": [
    {
     "data": {
      "text/plain": [
       "28479.1674"
      ]
     },
     "execution_count": 78,
     "metadata": {},
     "output_type": "execute_result"
    }
   ],
   "source": [
    "Sales_of_Bill_Eplett\n",
    "# (3)"
   ]
  },
  {
   "cell_type": "code",
   "execution_count": 79,
   "id": "04ad5861",
   "metadata": {},
   "outputs": [],
   "source": [
    "Sales_of_Gary_Hwang=df['Sales'].where(df['Customer Name']=='Gary Hwang',other=np.nan).dropna().sum()"
   ]
  },
  {
   "cell_type": "code",
   "execution_count": 80,
   "id": "1529bf81",
   "metadata": {},
   "outputs": [
    {
     "data": {
      "text/plain": [
       "24625.592999999997"
      ]
     },
     "execution_count": 80,
     "metadata": {},
     "output_type": "execute_result"
    }
   ],
   "source": [
    "Sales_of_Gary_Hwang\n",
    "# (4)"
   ]
  },
  {
   "cell_type": "code",
   "execution_count": 82,
   "id": "5832ea69",
   "metadata": {},
   "outputs": [],
   "source": [
    "Sales_of_Patrick_O_Brill=df['Sales'].where(df['Customer Name']==\"Patrick O'Brill\",other=np.nan).dropna().sum()"
   ]
  },
  {
   "cell_type": "code",
   "execution_count": 83,
   "id": "e67df3f5",
   "metadata": {},
   "outputs": [
    {
     "data": {
      "text/plain": [
       "26707.456199999997"
      ]
     },
     "execution_count": 83,
     "metadata": {},
     "output_type": "execute_result"
    }
   ],
   "source": [
    "Sales_of_Patrick_O_Brill\n",
    "# (5)"
   ]
  },
  {
   "cell_type": "code",
   "execution_count": 84,
   "id": "e976725e",
   "metadata": {},
   "outputs": [],
   "source": [
    "data={\"Name\":['Muhammed Yedwab','Steven Ward','Bill Eplett','Gary Hwang',\"Patrick O'Brill\"],'Sales':[29642.66,\n",
    "25668.486,28479.1674,24625.59,26707.45]}\n",
    "df_top_customers_of_sales=pd.DataFrame(data)"
   ]
  },
  {
   "cell_type": "code",
   "execution_count": 85,
   "id": "fe121360",
   "metadata": {},
   "outputs": [
    {
     "data": {
      "text/html": [
       "<div>\n",
       "<style scoped>\n",
       "    .dataframe tbody tr th:only-of-type {\n",
       "        vertical-align: middle;\n",
       "    }\n",
       "\n",
       "    .dataframe tbody tr th {\n",
       "        vertical-align: top;\n",
       "    }\n",
       "\n",
       "    .dataframe thead th {\n",
       "        text-align: right;\n",
       "    }\n",
       "</style>\n",
       "<table border=\"1\" class=\"dataframe\">\n",
       "  <thead>\n",
       "    <tr style=\"text-align: right;\">\n",
       "      <th></th>\n",
       "      <th>Name</th>\n",
       "      <th>Sales</th>\n",
       "    </tr>\n",
       "  </thead>\n",
       "  <tbody>\n",
       "    <tr>\n",
       "      <th>0</th>\n",
       "      <td>Muhammed Yedwab</td>\n",
       "      <td>29642.6600</td>\n",
       "    </tr>\n",
       "    <tr>\n",
       "      <th>1</th>\n",
       "      <td>Steven Ward</td>\n",
       "      <td>25668.4860</td>\n",
       "    </tr>\n",
       "    <tr>\n",
       "      <th>2</th>\n",
       "      <td>Bill Eplett</td>\n",
       "      <td>28479.1674</td>\n",
       "    </tr>\n",
       "    <tr>\n",
       "      <th>3</th>\n",
       "      <td>Gary Hwang</td>\n",
       "      <td>24625.5900</td>\n",
       "    </tr>\n",
       "    <tr>\n",
       "      <th>4</th>\n",
       "      <td>Patrick O'Brill</td>\n",
       "      <td>26707.4500</td>\n",
       "    </tr>\n",
       "  </tbody>\n",
       "</table>\n",
       "</div>"
      ],
      "text/plain": [
       "              Name       Sales\n",
       "0  Muhammed Yedwab  29642.6600\n",
       "1      Steven Ward  25668.4860\n",
       "2      Bill Eplett  28479.1674\n",
       "3       Gary Hwang  24625.5900\n",
       "4  Patrick O'Brill  26707.4500"
      ]
     },
     "execution_count": 85,
     "metadata": {},
     "output_type": "execute_result"
    }
   ],
   "source": [
    "df_top_customers_of_sales"
   ]
  },
  {
   "cell_type": "code",
   "execution_count": 86,
   "id": "133edfdb",
   "metadata": {},
   "outputs": [
    {
     "data": {
      "text/plain": [
       "<Axes: xlabel='Name', ylabel='Sales in $'>"
      ]
     },
     "execution_count": 86,
     "metadata": {},
     "output_type": "execute_result"
    },
    {
     "data": {
      "image/png": "[encoded data removed]",
      "text/plain": [
       "<Figure size 640x480 with 1 Axes>"
      ]
     },
     "metadata": {},
     "output_type": "display_data"
    }
   ],
   "source": [
    "df_top_customers_of_sales.plot(x='Name',y='Sales',kind='bar',xlabel='Name',ylabel='Sales in $',color='black')"
   ]
  },
  {
   "cell_type": "code",
   "execution_count": 122,
   "id": "98b1e841",
   "metadata": {},
   "outputs": [],
   "source": [
    "new_df=df[['Order ID','Profit']]"
   ]
  },
  {
   "cell_type": "code",
   "execution_count": 123,
   "id": "c65cbd5e",
   "metadata": {},
   "outputs": [
    {
     "data": {
      "text/html": [
       "<div>\n",
       "<style scoped>\n",
       "    .dataframe tbody tr th:only-of-type {\n",
       "        vertical-align: middle;\n",
       "    }\n",
       "\n",
       "    .dataframe tbody tr th {\n",
       "        vertical-align: top;\n",
       "    }\n",
       "\n",
       "    .dataframe thead th {\n",
       "        text-align: right;\n",
       "    }\n",
       "</style>\n",
       "<table border=\"1\" class=\"dataframe\">\n",
       "  <thead>\n",
       "    <tr style=\"text-align: right;\">\n",
       "      <th></th>\n",
       "      <th>Order ID</th>\n",
       "      <th>Profit</th>\n",
       "    </tr>\n",
       "  </thead>\n",
       "  <tbody>\n",
       "    <tr>\n",
       "      <th>0</th>\n",
       "      <td>CA-2014-AB10015140-41954</td>\n",
       "      <td>62.1544</td>\n",
       "    </tr>\n",
       "    <tr>\n",
       "      <th>1</th>\n",
       "      <td>IN-2014-JR162107-41675</td>\n",
       "      <td>-288.7650</td>\n",
       "    </tr>\n",
       "    <tr>\n",
       "      <th>2</th>\n",
       "      <td>IN-2014-CR127307-41929</td>\n",
       "      <td>919.9710</td>\n",
       "    </tr>\n",
       "    <tr>\n",
       "      <th>3</th>\n",
       "      <td>ES-2014-KM1637548-41667</td>\n",
       "      <td>-96.5400</td>\n",
       "    </tr>\n",
       "    <tr>\n",
       "      <th>4</th>\n",
       "      <td>SG-2014-RH9495111-41948</td>\n",
       "      <td>311.5200</td>\n",
       "    </tr>\n",
       "    <tr>\n",
       "      <th>...</th>\n",
       "      <td>...</td>\n",
       "      <td>...</td>\n",
       "    </tr>\n",
       "    <tr>\n",
       "      <th>51285</th>\n",
       "      <td>IN-2015-KE1642066-42174</td>\n",
       "      <td>4.5000</td>\n",
       "    </tr>\n",
       "    <tr>\n",
       "      <th>51286</th>\n",
       "      <td>US-2014-ZD21925140-41765</td>\n",
       "      <td>3.3440</td>\n",
       "    </tr>\n",
       "    <tr>\n",
       "      <th>51287</th>\n",
       "      <td>CA-2012-ZD21925140-41147</td>\n",
       "      <td>2.4824</td>\n",
       "    </tr>\n",
       "    <tr>\n",
       "      <th>51288</th>\n",
       "      <td>MX-2013-RB1979518-41322</td>\n",
       "      <td>2.4000</td>\n",
       "    </tr>\n",
       "    <tr>\n",
       "      <th>51289</th>\n",
       "      <td>MX-2013-MC1810093-41416</td>\n",
       "      <td>1.8000</td>\n",
       "    </tr>\n",
       "  </tbody>\n",
       "</table>\n",
       "<p>51290 rows × 2 columns</p>\n",
       "</div>"
      ],
      "text/plain": [
       "                       Order ID    Profit\n",
       "0      CA-2014-AB10015140-41954   62.1544\n",
       "1        IN-2014-JR162107-41675 -288.7650\n",
       "2        IN-2014-CR127307-41929  919.9710\n",
       "3       ES-2014-KM1637548-41667  -96.5400\n",
       "4       SG-2014-RH9495111-41948  311.5200\n",
       "...                         ...       ...\n",
       "51285   IN-2015-KE1642066-42174    4.5000\n",
       "51286  US-2014-ZD21925140-41765    3.3440\n",
       "51287  CA-2012-ZD21925140-41147    2.4824\n",
       "51288   MX-2013-RB1979518-41322    2.4000\n",
       "51289   MX-2013-MC1810093-41416    1.8000\n",
       "\n",
       "[51290 rows x 2 columns]"
      ]
     },
     "execution_count": 123,
     "metadata": {},
     "output_type": "execute_result"
    }
   ],
   "source": [
    "neww_df"
   ]
  },
  {
   "cell_type": "code",
   "execution_count": 124,
   "id": "bf8364e8",
   "metadata": {},
   "outputs": [
    {
     "name": "stderr",
     "output_type": "stream",
     "text": [
      "C:\\Users\\user\\AppData\\Local\\Temp\\ipykernel_16516\\2766521122.py:1: FutureWarning: The default value of regex will change from True to False in a future version.\n",
      "  neww_df['Order ID'] = neww_df['Order ID'].str.replace(r'\\d+', '')\n",
      "C:\\Users\\user\\AppData\\Local\\Temp\\ipykernel_16516\\2766521122.py:1: SettingWithCopyWarning: \n",
      "A value is trying to be set on a copy of a slice from a DataFrame.\n",
      "Try using .loc[row_indexer,col_indexer] = value instead\n",
      "\n",
      "See the caveats in the documentation: https://pandas.pydata.org/pandas-docs/stable/user_guide/indexing.html#returning-a-view-versus-a-copy\n",
      "  neww_df['Order ID'] = neww_df['Order ID'].str.replace(r'\\d+', '')\n"
     ]
    }
   ],
   "source": [
    "neww_df['Order ID'] = neww_df['Order ID'].str.replace(r'\\d+', '')\n",
    "# str.replace(r'\\d+', '') used to remove the numerical thing in our column of order id"
   ]
  },
  {
   "cell_type": "code",
   "execution_count": 125,
   "id": "2fb23f49",
   "metadata": {},
   "outputs": [
    {
     "name": "stdout",
     "output_type": "stream",
     "text": [
      "<class 'pandas.core.frame.DataFrame'>\n",
      "RangeIndex: 51290 entries, 0 to 51289\n",
      "Data columns (total 2 columns):\n",
      " #   Column    Non-Null Count  Dtype  \n",
      "---  ------    --------------  -----  \n",
      " 0   Order ID  51290 non-null  object \n",
      " 1   Profit    51290 non-null  float64\n",
      "dtypes: float64(1), object(1)\n",
      "memory usage: 801.5+ KB\n"
     ]
    }
   ],
   "source": [
    "neww_df.info()"
   ]
  },
  {
   "cell_type": "code",
   "execution_count": 126,
   "id": "18469c8c",
   "metadata": {},
   "outputs": [
    {
     "name": "stderr",
     "output_type": "stream",
     "text": [
      "C:\\Users\\user\\AppData\\Local\\Temp\\ipykernel_16516\\432182107.py:1: SettingWithCopyWarning: \n",
      "A value is trying to be set on a copy of a slice from a DataFrame.\n",
      "Try using .loc[row_indexer,col_indexer] = value instead\n",
      "\n",
      "See the caveats in the documentation: https://pandas.pydata.org/pandas-docs/stable/user_guide/indexing.html#returning-a-view-versus-a-copy\n",
      "  neww_df['Order ID'] = neww_df['Order ID'].astype('category')\n"
     ]
    }
   ],
   "source": [
    "neww_df['Order ID'] = neww_df['Order ID'].astype('category')"
   ]
  },
  {
   "cell_type": "code",
   "execution_count": 127,
   "id": "48772cdb",
   "metadata": {},
   "outputs": [
    {
     "name": "stdout",
     "output_type": "stream",
     "text": [
      "<class 'pandas.core.frame.DataFrame'>\n",
      "RangeIndex: 51290 entries, 0 to 51289\n",
      "Data columns (total 2 columns):\n",
      " #   Column    Non-Null Count  Dtype   \n",
      "---  ------    --------------  -----   \n",
      " 0   Order ID  51290 non-null  category\n",
      " 1   Profit    51290 non-null  float64 \n",
      "dtypes: category(1), float64(1)\n",
      "memory usage: 670.0 KB\n"
     ]
    }
   ],
   "source": [
    "neww_df.info()"
   ]
  },
  {
   "cell_type": "code",
   "execution_count": 128,
   "id": "f262fe33",
   "metadata": {},
   "outputs": [
    {
     "data": {
      "text/html": [
       "<div>\n",
       "<style scoped>\n",
       "    .dataframe tbody tr th:only-of-type {\n",
       "        vertical-align: middle;\n",
       "    }\n",
       "\n",
       "    .dataframe tbody tr th {\n",
       "        vertical-align: top;\n",
       "    }\n",
       "\n",
       "    .dataframe thead th {\n",
       "        text-align: right;\n",
       "    }\n",
       "</style>\n",
       "<table border=\"1\" class=\"dataframe\">\n",
       "  <thead>\n",
       "    <tr style=\"text-align: right;\">\n",
       "      <th></th>\n",
       "      <th>Order ID</th>\n",
       "      <th>Profit</th>\n",
       "    </tr>\n",
       "  </thead>\n",
       "  <tbody>\n",
       "    <tr>\n",
       "      <th>0</th>\n",
       "      <td>CA--AB-</td>\n",
       "      <td>62.1544</td>\n",
       "    </tr>\n",
       "    <tr>\n",
       "      <th>1</th>\n",
       "      <td>IN--JR-</td>\n",
       "      <td>-288.7650</td>\n",
       "    </tr>\n",
       "    <tr>\n",
       "      <th>2</th>\n",
       "      <td>IN--CR-</td>\n",
       "      <td>919.9710</td>\n",
       "    </tr>\n",
       "    <tr>\n",
       "      <th>3</th>\n",
       "      <td>ES--KM-</td>\n",
       "      <td>-96.5400</td>\n",
       "    </tr>\n",
       "    <tr>\n",
       "      <th>4</th>\n",
       "      <td>SG--RH-</td>\n",
       "      <td>311.5200</td>\n",
       "    </tr>\n",
       "    <tr>\n",
       "      <th>...</th>\n",
       "      <td>...</td>\n",
       "      <td>...</td>\n",
       "    </tr>\n",
       "    <tr>\n",
       "      <th>51285</th>\n",
       "      <td>IN--KE-</td>\n",
       "      <td>4.5000</td>\n",
       "    </tr>\n",
       "    <tr>\n",
       "      <th>51286</th>\n",
       "      <td>US--ZD-</td>\n",
       "      <td>3.3440</td>\n",
       "    </tr>\n",
       "    <tr>\n",
       "      <th>51287</th>\n",
       "      <td>CA--ZD-</td>\n",
       "      <td>2.4824</td>\n",
       "    </tr>\n",
       "    <tr>\n",
       "      <th>51288</th>\n",
       "      <td>MX--RB-</td>\n",
       "      <td>2.4000</td>\n",
       "    </tr>\n",
       "    <tr>\n",
       "      <th>51289</th>\n",
       "      <td>MX--MC-</td>\n",
       "      <td>1.8000</td>\n",
       "    </tr>\n",
       "  </tbody>\n",
       "</table>\n",
       "<p>51290 rows × 2 columns</p>\n",
       "</div>"
      ],
      "text/plain": [
       "      Order ID    Profit\n",
       "0      CA--AB-   62.1544\n",
       "1      IN--JR- -288.7650\n",
       "2      IN--CR-  919.9710\n",
       "3      ES--KM-  -96.5400\n",
       "4      SG--RH-  311.5200\n",
       "...        ...       ...\n",
       "51285  IN--KE-    4.5000\n",
       "51286  US--ZD-    3.3440\n",
       "51287  CA--ZD-    2.4824\n",
       "51288  MX--RB-    2.4000\n",
       "51289  MX--MC-    1.8000\n",
       "\n",
       "[51290 rows x 2 columns]"
      ]
     },
     "execution_count": 128,
     "metadata": {},
     "output_type": "execute_result"
    }
   ],
   "source": [
    "neww_df"
   ]
  },
  {
   "cell_type": "code",
   "execution_count": 129,
   "id": "62280a89",
   "metadata": {},
   "outputs": [
    {
     "name": "stderr",
     "output_type": "stream",
     "text": [
      "C:\\Users\\user\\AppData\\Local\\Temp\\ipykernel_16516\\834365619.py:1: SettingWithCopyWarning: \n",
      "A value is trying to be set on a copy of a slice from a DataFrame.\n",
      "Try using .loc[row_indexer,col_indexer] = value instead\n",
      "\n",
      "See the caveats in the documentation: https://pandas.pydata.org/pandas-docs/stable/user_guide/indexing.html#returning-a-view-versus-a-copy\n",
      "  neww_df['Order ID'] = neww_df['Order ID'].str.replace('CA', 'Canada')\n",
      "C:\\Users\\user\\AppData\\Local\\Temp\\ipykernel_16516\\834365619.py:2: SettingWithCopyWarning: \n",
      "A value is trying to be set on a copy of a slice from a DataFrame.\n",
      "Try using .loc[row_indexer,col_indexer] = value instead\n",
      "\n",
      "See the caveats in the documentation: https://pandas.pydata.org/pandas-docs/stable/user_guide/indexing.html#returning-a-view-versus-a-copy\n",
      "  neww_df['Order ID'] = neww_df['Order ID'].str.replace('IN', 'India')\n"
     ]
    }
   ],
   "source": [
    "neww_df['Order ID'] = neww_df['Order ID'].str.replace('CA', 'Canada')\n",
    "neww_df['Order ID'] = neww_df['Order ID'].str.replace('IN', 'India')\n"
   ]
  },
  {
   "cell_type": "code",
   "execution_count": 130,
   "id": "a65ebb8b",
   "metadata": {},
   "outputs": [
    {
     "data": {
      "text/html": [
       "<div>\n",
       "<style scoped>\n",
       "    .dataframe tbody tr th:only-of-type {\n",
       "        vertical-align: middle;\n",
       "    }\n",
       "\n",
       "    .dataframe tbody tr th {\n",
       "        vertical-align: top;\n",
       "    }\n",
       "\n",
       "    .dataframe thead th {\n",
       "        text-align: right;\n",
       "    }\n",
       "</style>\n",
       "<table border=\"1\" class=\"dataframe\">\n",
       "  <thead>\n",
       "    <tr style=\"text-align: right;\">\n",
       "      <th></th>\n",
       "      <th>Order ID</th>\n",
       "      <th>Profit</th>\n",
       "    </tr>\n",
       "  </thead>\n",
       "  <tbody>\n",
       "    <tr>\n",
       "      <th>0</th>\n",
       "      <td>Canada--AB-</td>\n",
       "      <td>62.1544</td>\n",
       "    </tr>\n",
       "    <tr>\n",
       "      <th>1</th>\n",
       "      <td>India--JR-</td>\n",
       "      <td>-288.7650</td>\n",
       "    </tr>\n",
       "    <tr>\n",
       "      <th>2</th>\n",
       "      <td>India--CR-</td>\n",
       "      <td>919.9710</td>\n",
       "    </tr>\n",
       "    <tr>\n",
       "      <th>3</th>\n",
       "      <td>ES--KM-</td>\n",
       "      <td>-96.5400</td>\n",
       "    </tr>\n",
       "    <tr>\n",
       "      <th>4</th>\n",
       "      <td>SG--RH-</td>\n",
       "      <td>311.5200</td>\n",
       "    </tr>\n",
       "    <tr>\n",
       "      <th>...</th>\n",
       "      <td>...</td>\n",
       "      <td>...</td>\n",
       "    </tr>\n",
       "    <tr>\n",
       "      <th>51285</th>\n",
       "      <td>India--KE-</td>\n",
       "      <td>4.5000</td>\n",
       "    </tr>\n",
       "    <tr>\n",
       "      <th>51286</th>\n",
       "      <td>US--ZD-</td>\n",
       "      <td>3.3440</td>\n",
       "    </tr>\n",
       "    <tr>\n",
       "      <th>51287</th>\n",
       "      <td>Canada--ZD-</td>\n",
       "      <td>2.4824</td>\n",
       "    </tr>\n",
       "    <tr>\n",
       "      <th>51288</th>\n",
       "      <td>MX--RB-</td>\n",
       "      <td>2.4000</td>\n",
       "    </tr>\n",
       "    <tr>\n",
       "      <th>51289</th>\n",
       "      <td>MX--MC-</td>\n",
       "      <td>1.8000</td>\n",
       "    </tr>\n",
       "  </tbody>\n",
       "</table>\n",
       "<p>51290 rows × 2 columns</p>\n",
       "</div>"
      ],
      "text/plain": [
       "          Order ID    Profit\n",
       "0      Canada--AB-   62.1544\n",
       "1       India--JR- -288.7650\n",
       "2       India--CR-  919.9710\n",
       "3          ES--KM-  -96.5400\n",
       "4          SG--RH-  311.5200\n",
       "...            ...       ...\n",
       "51285   India--KE-    4.5000\n",
       "51286      US--ZD-    3.3440\n",
       "51287  Canada--ZD-    2.4824\n",
       "51288      MX--RB-    2.4000\n",
       "51289      MX--MC-    1.8000\n",
       "\n",
       "[51290 rows x 2 columns]"
      ]
     },
     "execution_count": 130,
     "metadata": {},
     "output_type": "execute_result"
    }
   ],
   "source": [
    "neww_df"
   ]
  },
  {
   "cell_type": "code",
   "execution_count": 131,
   "id": "480d90a3",
   "metadata": {},
   "outputs": [
    {
     "name": "stdout",
     "output_type": "stream",
     "text": [
      "<class 'pandas.core.frame.DataFrame'>\n",
      "RangeIndex: 51290 entries, 0 to 51289\n",
      "Data columns (total 2 columns):\n",
      " #   Column    Non-Null Count  Dtype  \n",
      "---  ------    --------------  -----  \n",
      " 0   Order ID  51290 non-null  object \n",
      " 1   Profit    51290 non-null  float64\n",
      "dtypes: float64(1), object(1)\n",
      "memory usage: 801.5+ KB\n"
     ]
    }
   ],
   "source": [
    "neww_df.info()"
   ]
  },
  {
   "cell_type": "code",
   "execution_count": 132,
   "id": "f4deca47",
   "metadata": {},
   "outputs": [
    {
     "name": "stderr",
     "output_type": "stream",
     "text": [
      "C:\\Users\\user\\AppData\\Local\\Temp\\ipykernel_16516\\1333297195.py:1: SettingWithCopyWarning: \n",
      "A value is trying to be set on a copy of a slice from a DataFrame.\n",
      "Try using .loc[row_indexer,col_indexer] = value instead\n",
      "\n",
      "See the caveats in the documentation: https://pandas.pydata.org/pandas-docs/stable/user_guide/indexing.html#returning-a-view-versus-a-copy\n",
      "  neww_df['Order ID'] = neww_df['Order ID'].str.split('--').str[0]\n"
     ]
    }
   ],
   "source": [
    "neww_df['Order ID'] = neww_df['Order ID'].str.split('--').str[0]"
   ]
  },
  {
   "cell_type": "code",
   "execution_count": 143,
   "id": "fe1af843",
   "metadata": {},
   "outputs": [
    {
     "data": {
      "text/plain": [
       "array(['Canada', 'India', 'ES', 'SG', 'ID', 'SA', 'MX', 'TZ', 'PL', 'US',\n",
       "       'CG', 'IT', 'IR', 'MZ', 'UP', 'MO', 'SO', 'BO', 'SF', 'RS', 'EG',\n",
       "       'AJ', 'LH', 'LT', 'RO', 'TU', 'CM', 'HU', 'AO', 'GH', 'ZA', 'IZ',\n",
       "       'LI', 'GG', 'AL', 'CD', 'MW', 'WA', 'MA', 'AU', 'QA', 'CF', 'AG',\n",
       "       'NI', 'EN', 'IV', 'EZ', 'CT', 'BN', 'SY', 'LE', 'KE', 'ML', 'LY',\n",
       "       'BU', 'IS', 'SI', 'TO', 'MR', 'GV', 'RW', 'NG', 'MG', 'SU', 'SL',\n",
       "       'BK', 'PU', 'DJ', 'TS', 'HR', 'KG', 'UZ', 'OD', 'GB', 'BA', 'YM',\n",
       "       'JO', 'AE', 'MD', 'WZ', 'TX', 'KZ', 'ET', 'UG', 'LO', 'TI', 'BY',\n",
       "       'MK', 'ER', 'EK', 'AM'], dtype=object)"
      ]
     },
     "execution_count": 143,
     "metadata": {},
     "output_type": "execute_result"
    }
   ],
   "source": [
    "neww_df['Order ID'].unique()"
   ]
  },
  {
   "cell_type": "code",
   "execution_count": null,
   "id": "00a229c5",
   "metadata": {},
   "outputs": [],
   "source": []
  }
 ],
 "metadata": {
  "kernelspec": {
   "display_name": "Python 3 (ipykernel)",
   "language": "python",
   "name": "python3"
  },
  "language_info": {
   "codemirror_mode": {
    "name": "ipython",
    "version": 3
   },
   "file_extension": ".py",
   "mimetype": "text/x-python",
   "name": "python",
   "nbconvert_exporter": "python",
   "pygments_lexer": "ipython3",
   "version": "3.10.9"
  }
 },
 "nbformat": 4,
 "nbformat_minor": 5
}
